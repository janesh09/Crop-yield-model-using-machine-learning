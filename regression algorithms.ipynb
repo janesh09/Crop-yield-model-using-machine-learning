{
 "cells": [
  {
   "cell_type": "markdown",
   "metadata": {},
   "source": [
    "# Establishing a Baseline for the Problem\n",
    "## Using variety of regression algorithms (non linear)"
   ]
  },
  {
   "cell_type": "code",
   "execution_count": 1,
   "metadata": {},
   "outputs": [],
   "source": [
    "import pandas as pd\n",
    "import numpy as np\n",
    "from sklearn.linear_model import LinearRegression\n",
    "from sklearn.model_selection import train_test_split\n",
    "from sklearn.metrics import mean_squared_error\n",
    "from math import sqrt\n",
    "\n",
    "import pprint\n",
    "import matplotlib.pyplot as plt\n",
    "import seaborn as sns\n",
    "\n",
    "from sklearn.model_selection import cross_val_score\n",
    "from sklearn import metrics\n",
    "\n",
    "from sklearn.svm import SVR\n",
    "\n",
    "%matplotlib inline"
   ]
  },
  {
   "cell_type": "code",
   "execution_count": 2,
   "metadata": {},
   "outputs": [
    {
     "data": {
      "text/html": [
       "<div>\n",
       "<style scoped>\n",
       "    .dataframe tbody tr th:only-of-type {\n",
       "        vertical-align: middle;\n",
       "    }\n",
       "\n",
       "    .dataframe tbody tr th {\n",
       "        vertical-align: top;\n",
       "    }\n",
       "\n",
       "    .dataframe thead th {\n",
       "        text-align: right;\n",
       "    }\n",
       "</style>\n",
       "<table border=\"1\" class=\"dataframe\">\n",
       "  <thead>\n",
       "    <tr style=\"text-align: right;\">\n",
       "      <th></th>\n",
       "      <th>Unnamed: 0</th>\n",
       "      <th>State_Name</th>\n",
       "      <th>ind_district</th>\n",
       "      <th>Crop_Year</th>\n",
       "      <th>Season</th>\n",
       "      <th>Crop</th>\n",
       "      <th>Area</th>\n",
       "      <th>Production</th>\n",
       "      <th>phosphorus</th>\n",
       "      <th>X1</th>\n",
       "      <th>X2</th>\n",
       "      <th>X3</th>\n",
       "      <th>X4</th>\n",
       "    </tr>\n",
       "  </thead>\n",
       "  <tbody>\n",
       "    <tr>\n",
       "      <th>0</th>\n",
       "      <td>15</td>\n",
       "      <td>Andhra Pradesh</td>\n",
       "      <td>anantapur</td>\n",
       "      <td>1999</td>\n",
       "      <td>kharif</td>\n",
       "      <td>Rice</td>\n",
       "      <td>37991.0</td>\n",
       "      <td>105082.0</td>\n",
       "      <td>0.0</td>\n",
       "      <td>96800.0</td>\n",
       "      <td>75400.0</td>\n",
       "      <td>643.720</td>\n",
       "      <td>881.473</td>\n",
       "    </tr>\n",
       "    <tr>\n",
       "      <th>1</th>\n",
       "      <td>16</td>\n",
       "      <td>Andhra Pradesh</td>\n",
       "      <td>anantapur</td>\n",
       "      <td>2000</td>\n",
       "      <td>kharif</td>\n",
       "      <td>Rice</td>\n",
       "      <td>39905.0</td>\n",
       "      <td>117680.0</td>\n",
       "      <td>0.0</td>\n",
       "      <td>105082.0</td>\n",
       "      <td>96800.0</td>\n",
       "      <td>767.351</td>\n",
       "      <td>643.720</td>\n",
       "    </tr>\n",
       "    <tr>\n",
       "      <th>2</th>\n",
       "      <td>17</td>\n",
       "      <td>Andhra Pradesh</td>\n",
       "      <td>anantapur</td>\n",
       "      <td>2001</td>\n",
       "      <td>kharif</td>\n",
       "      <td>Rice</td>\n",
       "      <td>32878.0</td>\n",
       "      <td>95609.0</td>\n",
       "      <td>0.0</td>\n",
       "      <td>117680.0</td>\n",
       "      <td>105082.0</td>\n",
       "      <td>579.338</td>\n",
       "      <td>767.351</td>\n",
       "    </tr>\n",
       "    <tr>\n",
       "      <th>3</th>\n",
       "      <td>18</td>\n",
       "      <td>Andhra Pradesh</td>\n",
       "      <td>anantapur</td>\n",
       "      <td>2002</td>\n",
       "      <td>kharif</td>\n",
       "      <td>Rice</td>\n",
       "      <td>29066.0</td>\n",
       "      <td>66329.0</td>\n",
       "      <td>0.0</td>\n",
       "      <td>95609.0</td>\n",
       "      <td>117680.0</td>\n",
       "      <td>540.070</td>\n",
       "      <td>579.338</td>\n",
       "    </tr>\n",
       "    <tr>\n",
       "      <th>4</th>\n",
       "      <td>21</td>\n",
       "      <td>Andhra Pradesh</td>\n",
       "      <td>anantapur</td>\n",
       "      <td>2005</td>\n",
       "      <td>kharif</td>\n",
       "      <td>Rice</td>\n",
       "      <td>25008.0</td>\n",
       "      <td>69972.0</td>\n",
       "      <td>0.0</td>\n",
       "      <td>85051.0</td>\n",
       "      <td>44891.0</td>\n",
       "      <td>819.700</td>\n",
       "      <td>564.500</td>\n",
       "    </tr>\n",
       "  </tbody>\n",
       "</table>\n",
       "</div>"
      ],
      "text/plain": [
       "   Unnamed: 0      State_Name ind_district  Crop_Year  Season  Crop     Area  \\\n",
       "0          15  Andhra Pradesh    anantapur       1999  kharif  Rice  37991.0   \n",
       "1          16  Andhra Pradesh    anantapur       2000  kharif  Rice  39905.0   \n",
       "2          17  Andhra Pradesh    anantapur       2001  kharif  Rice  32878.0   \n",
       "3          18  Andhra Pradesh    anantapur       2002  kharif  Rice  29066.0   \n",
       "4          21  Andhra Pradesh    anantapur       2005  kharif  Rice  25008.0   \n",
       "\n",
       "   Production  phosphorus        X1        X2       X3       X4  \n",
       "0    105082.0         0.0   96800.0   75400.0  643.720  881.473  \n",
       "1    117680.0         0.0  105082.0   96800.0  767.351  643.720  \n",
       "2     95609.0         0.0  117680.0  105082.0  579.338  767.351  \n",
       "3     66329.0         0.0   95609.0  117680.0  540.070  579.338  \n",
       "4     69972.0         0.0   85051.0   44891.0  819.700  564.500  "
      ]
     },
     "execution_count": 2,
     "metadata": {},
     "output_type": "execute_result"
    }
   ],
   "source": [
    "# importing the dataset we prepared and saved using Baseline 1 Notebook\n",
    "ricep = pd.read_csv(\"ricep.csv\")\n",
    "ricep.head()"
   ]
  },
  {
   "cell_type": "code",
   "execution_count": 3,
   "metadata": {},
   "outputs": [],
   "source": [
    "ricep = ricep.drop([\"Unnamed: 0\"],axis=1)\n",
    "ricep[\"phosphorus\"] = ricep[\"phosphorus\"]*10"
   ]
  },
  {
   "cell_type": "code",
   "execution_count": 4,
   "metadata": {},
   "outputs": [],
   "source": [
    "ricep[\"value\"] = ricep[\"Production\"]/ricep[\"Area\"]"
   ]
  },
  {
   "cell_type": "code",
   "execution_count": 5,
   "metadata": {},
   "outputs": [],
   "source": [
    "X = ricep[[\"X1\",\"X2\",\"X3\",\"X4\",\"phosphorus\"]]\n",
    "y = ricep[[\"value\"]]*1000"
   ]
  },
  {
   "cell_type": "code",
   "execution_count": 6,
   "metadata": {},
   "outputs": [
    {
     "name": "stderr",
     "output_type": "stream",
     "text": [
      "<ipython-input-6-f4ee19c11f44>:6: SettingWithCopyWarning: \n",
      "A value is trying to be set on a copy of a slice from a DataFrame.\n",
      "Try using .loc[row_indexer,col_indexer] = value instead\n",
      "\n",
      "See the caveats in the documentation: https://pandas.pydata.org/pandas-docs/stable/user_guide/indexing.html#returning-a-view-versus-a-copy\n",
      "  X[col_zscore] = (X[col] - X[col].mean())/X[col].std(ddof=0)\n"
     ]
    }
   ],
   "source": [
    "# Z-Score Normalization OR try using the sklearn internal normalizing by setting mormalize flag = true !!!\n",
    "\n",
    "cols = list(X.columns)\n",
    "for col in cols:\n",
    "    col_zscore = col + '_zscore'\n",
    "    X[col_zscore] = (X[col] - X[col].mean())/X[col].std(ddof=0)"
   ]
  },
  {
   "cell_type": "code",
   "execution_count": 7,
   "metadata": {},
   "outputs": [
    {
     "data": {
      "text/html": [
       "<div>\n",
       "<style scoped>\n",
       "    .dataframe tbody tr th:only-of-type {\n",
       "        vertical-align: middle;\n",
       "    }\n",
       "\n",
       "    .dataframe tbody tr th {\n",
       "        vertical-align: top;\n",
       "    }\n",
       "\n",
       "    .dataframe thead th {\n",
       "        text-align: right;\n",
       "    }\n",
       "</style>\n",
       "<table border=\"1\" class=\"dataframe\">\n",
       "  <thead>\n",
       "    <tr style=\"text-align: right;\">\n",
       "      <th></th>\n",
       "      <th>X1_zscore</th>\n",
       "      <th>X2_zscore</th>\n",
       "      <th>X3_zscore</th>\n",
       "      <th>X4_zscore</th>\n",
       "      <th>phosphorus_zscore</th>\n",
       "    </tr>\n",
       "  </thead>\n",
       "  <tbody>\n",
       "    <tr>\n",
       "      <th>0</th>\n",
       "      <td>-0.285176</td>\n",
       "      <td>-0.374714</td>\n",
       "      <td>-0.457800</td>\n",
       "      <td>0.021735</td>\n",
       "      <td>-0.837691</td>\n",
       "    </tr>\n",
       "    <tr>\n",
       "      <th>1</th>\n",
       "      <td>-0.247120</td>\n",
       "      <td>-0.276111</td>\n",
       "      <td>-0.198113</td>\n",
       "      <td>-0.496827</td>\n",
       "      <td>-0.837691</td>\n",
       "    </tr>\n",
       "    <tr>\n",
       "      <th>2</th>\n",
       "      <td>-0.189232</td>\n",
       "      <td>-0.237950</td>\n",
       "      <td>-0.593035</td>\n",
       "      <td>-0.227176</td>\n",
       "      <td>-0.837691</td>\n",
       "    </tr>\n",
       "    <tr>\n",
       "      <th>3</th>\n",
       "      <td>-0.290648</td>\n",
       "      <td>-0.179903</td>\n",
       "      <td>-0.675518</td>\n",
       "      <td>-0.637250</td>\n",
       "      <td>-0.837691</td>\n",
       "    </tr>\n",
       "    <tr>\n",
       "      <th>4</th>\n",
       "      <td>-0.339162</td>\n",
       "      <td>-0.515288</td>\n",
       "      <td>-0.088153</td>\n",
       "      <td>-0.669613</td>\n",
       "      <td>-0.837691</td>\n",
       "    </tr>\n",
       "  </tbody>\n",
       "</table>\n",
       "</div>"
      ],
      "text/plain": [
       "   X1_zscore  X2_zscore  X3_zscore  X4_zscore  phosphorus_zscore\n",
       "0  -0.285176  -0.374714  -0.457800   0.021735          -0.837691\n",
       "1  -0.247120  -0.276111  -0.198113  -0.496827          -0.837691\n",
       "2  -0.189232  -0.237950  -0.593035  -0.227176          -0.837691\n",
       "3  -0.290648  -0.179903  -0.675518  -0.637250          -0.837691\n",
       "4  -0.339162  -0.515288  -0.088153  -0.669613          -0.837691"
      ]
     },
     "execution_count": 7,
     "metadata": {},
     "output_type": "execute_result"
    }
   ],
   "source": [
    "X_ = X[[\"X1_zscore\", \"X2_zscore\", \"X3_zscore\", \"X4_zscore\", \"phosphorus_zscore\"]]\n",
    "X_.head()"
   ]
  },
  {
   "cell_type": "code",
   "execution_count": 8,
   "metadata": {},
   "outputs": [],
   "source": [
    "X_train, X_test, y_train, y_test = train_test_split(X_, y, test_size=0.2, random_state=1)"
   ]
  },
  {
   "cell_type": "markdown",
   "metadata": {},
   "source": [
    "### First checking the avg RMSE for Linear Regression"
   ]
  },
  {
   "cell_type": "code",
   "execution_count": 9,
   "metadata": {},
   "outputs": [
    {
     "name": "stdout",
     "output_type": "stream",
     "text": [
      "[1030.92314374 1109.37929379  972.36266895 1487.52744177  491.48595541]\n",
      "\n",
      "\n",
      "Avg RMSE is  1018.3357007328075\n"
     ]
    }
   ],
   "source": [
    "clf = LinearRegression()\n",
    "scores = cross_val_score(clf, X_, y, cv=5, scoring='neg_mean_squared_error')\n",
    "for i in range(0,5):\n",
    "    scores[i] = sqrt(-1*scores[i])\n",
    "    \n",
    "print(scores)\n",
    "avg_rmse = scores.mean()\n",
    "print(\"\\n\\nAvg RMSE is \",scores.mean())"
   ]
  },
  {
   "cell_type": "code",
   "execution_count": null,
   "metadata": {},
   "outputs": [],
   "source": []
  },
  {
   "cell_type": "markdown",
   "metadata": {},
   "source": [
    "# Epsilon-Support Vector Regression (SVR)"
   ]
  },
  {
   "cell_type": "markdown",
   "metadata": {},
   "source": [
    "### RBF Kernel"
   ]
  },
  {
   "cell_type": "code",
   "execution_count": 10,
   "metadata": {},
   "outputs": [],
   "source": [
    "# 5 Fold CV, to calculate avg RMSE\n",
    "clf = SVR(C=500000.0, epsilon=0.1, kernel='rbf', gamma=0.0008)\n",
    "scores = cross_val_score(clf, X_, y.values.ravel(), cv=5, scoring='neg_mean_squared_error')\n",
    "for i in range(0,5):\n",
    "    scores[i] = sqrt(-1*scores[i])"
   ]
  },
  {
   "cell_type": "code",
   "execution_count": 11,
   "metadata": {},
   "outputs": [
    {
     "name": "stdout",
     "output_type": "stream",
     "text": [
      "[ 904.09013921  940.99998887  981.97853142 1616.00179024  568.93419484]\n",
      "\n",
      "\n",
      "Avg RMSE is  1002.4009289157244\n"
     ]
    }
   ],
   "source": [
    "print(scores)\n",
    "avg_rmse = scores.mean()\n",
    "print(\"\\n\\nAvg RMSE is \",scores.mean())"
   ]
  },
  {
   "cell_type": "code",
   "execution_count": 12,
   "metadata": {},
   "outputs": [],
   "source": [
    "# Just the 4 original features (no soil data)\n",
    "X_old = X[[\"X1_zscore\", \"X2_zscore\", \"X3_zscore\", \"X4_zscore\"]]"
   ]
  },
  {
   "cell_type": "code",
   "execution_count": 13,
   "metadata": {},
   "outputs": [
    {
     "name": "stdout",
     "output_type": "stream",
     "text": [
      "[ 903.93008696  753.88394413  765.69751566 1574.251674    636.95214188]\n",
      "\n",
      "\n",
      "Avg RMSE is  926.9430725257904\n"
     ]
    }
   ],
   "source": [
    "# 5 Fold CV, to calculate avg RMSE\n",
    "clf = SVR(C=1000.0, epsilon=0.1, kernel='rbf', gamma=0.027)\n",
    "scores = cross_val_score(clf, X_old, y.values.ravel(), cv=5, scoring='neg_mean_squared_error')\n",
    "for i in range(0,5):\n",
    "    scores[i] = sqrt(-1*scores[i])\n",
    "\n",
    "print(scores)\n",
    "avg_rmse = scores.mean()\n",
    "print(\"\\n\\nAvg RMSE is \",scores.mean())"
   ]
  },
  {
   "cell_type": "markdown",
   "metadata": {},
   "source": [
    "#### SVR : 927\n",
    "#### LR : 1018\n",
    "#### SVR (RBF kernel) works better than Linear Regression."
   ]
  },
  {
   "cell_type": "markdown",
   "metadata": {},
   "source": [
    "#### Also, the soil feature, for now, does more harm than good (Phosphorous content)"
   ]
  },
  {
   "cell_type": "markdown",
   "metadata": {},
   "source": [
    "### Lets check the importance of Rain Data"
   ]
  },
  {
   "cell_type": "code",
   "execution_count": 14,
   "metadata": {},
   "outputs": [],
   "source": [
    "# Just 2 features (no rain data)\n",
    "X_nr = X[[\"X1_zscore\", \"X2_zscore\"]]"
   ]
  },
  {
   "cell_type": "code",
   "execution_count": 15,
   "metadata": {},
   "outputs": [
    {
     "name": "stdout",
     "output_type": "stream",
     "text": [
      "[1039.57563055  863.77364865  944.40471    1492.31174906  672.96822263]\n",
      "\n",
      "\n",
      "Avg RMSE is  1002.6067921795026\n"
     ]
    }
   ],
   "source": [
    "# 5 Fold CV, to calculate avg RMSE\n",
    "clf = SVR(C=1000.0, epsilon=0.1, kernel='rbf', gamma=0.027)\n",
    "scores = cross_val_score(clf, X_nr, y.values.ravel(), cv=5, scoring='neg_mean_squared_error')\n",
    "for i in range(0,5):\n",
    "    scores[i] = sqrt(-1*scores[i])\n",
    "\n",
    "print(scores)\n",
    "avg_rmse = scores.mean()\n",
    "print(\"\\n\\nAvg RMSE is \",scores.mean())"
   ]
  },
  {
   "cell_type": "markdown",
   "metadata": {},
   "source": [
    "#### The Rain data does helps us"
   ]
  },
  {
   "cell_type": "markdown",
   "metadata": {},
   "source": [
    "## Lets try for SVR with other kernels ..."
   ]
  },
  {
   "cell_type": "markdown",
   "metadata": {},
   "source": [
    "#### Degree 3 Polynomial"
   ]
  },
  {
   "cell_type": "code",
   "execution_count": 16,
   "metadata": {},
   "outputs": [
    {
     "name": "stdout",
     "output_type": "stream",
     "text": [
      "[ 906.20976415  837.77643762 1049.76326739 1568.88777167  504.49443066]\n",
      "\n",
      "\n",
      "Avg RMSE is  973.4263342974858\n"
     ]
    }
   ],
   "source": [
    "# 5 Fold CV, to calculate avg RMSE\n",
    "clf = SVR(kernel='poly', gamma='auto', degree=3, coef0=2)\n",
    "scores = cross_val_score(clf, X_old, y.values.ravel(), cv=5, scoring='neg_mean_squared_error')\n",
    "for i in range(0,5):\n",
    "    scores[i] = sqrt(-1*scores[i])\n",
    "    \n",
    "print(scores)\n",
    "avg_rmse = scores.mean()\n",
    "print(\"\\n\\nAvg RMSE is \",scores.mean())"
   ]
  },
  {
   "cell_type": "markdown",
   "metadata": {},
   "source": [
    "### Polynomial Kernel also does better than Linear Regression"
   ]
  },
  {
   "cell_type": "markdown",
   "metadata": {},
   "source": [
    "#### Degree 4 Polynomial"
   ]
  },
  {
   "cell_type": "code",
   "execution_count": 17,
   "metadata": {},
   "outputs": [
    {
     "name": "stdout",
     "output_type": "stream",
     "text": [
      "[ 907.10874357  787.20784909  848.64917648 1570.06140194  557.83575489]\n",
      "\n",
      "\n",
      "Avg RMSE is  934.1725851935462\n"
     ]
    }
   ],
   "source": [
    "# 5 Fold CV, to calculate avg RMSE\n",
    "clf = SVR(kernel='poly', gamma='auto', degree=4, coef0=2)\n",
    "scores = cross_val_score(clf, X_old, y.values.ravel(), cv=5, scoring='neg_mean_squared_error')\n",
    "for i in range(0,5):\n",
    "    scores[i] = sqrt(-1*scores[i])\n",
    "    \n",
    "print(scores)\n",
    "avg_rmse = scores.mean()\n",
    "print(\"\\n\\nAvg RMSE is \",scores.mean())"
   ]
  },
  {
   "cell_type": "code",
   "execution_count": null,
   "metadata": {},
   "outputs": [],
   "source": []
  }
 ],
 "metadata": {
  "kernelspec": {
   "display_name": "Python 3",
   "language": "python",
   "name": "python3"
  },
  "language_info": {
   "codemirror_mode": {
    "name": "ipython",
    "version": 3
   },
   "file_extension": ".py",
   "mimetype": "text/x-python",
   "name": "python",
   "nbconvert_exporter": "python",
   "pygments_lexer": "ipython3",
   "version": "3.8.5"
  }
 },
 "nbformat": 4,
 "nbformat_minor": 2
}
