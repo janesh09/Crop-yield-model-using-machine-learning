{
 "cells": [
  {
   "cell_type": "markdown",
   "metadata": {},
   "source": [
    "# Latitude, Longitude for any pixel in a GeoTiff File\n",
    "How to generate the latitude and longitude for a pixel at any given position in a GeoTiff file."
   ]
  },
  {
   "cell_type": "code",
   "execution_count": 2,
   "metadata": {
    "collapsed": true
   },
   "outputs": [],
   "source": [
    "from osgeo import ogr, osr, gdal"
   ]
  },
  {
   "cell_type": "code",
   "execution_count": 3,
   "metadata": {},
   "outputs": [],
   "source": [
    "# opening the geotiff file\n",
    "ds = gdal.Open('G:\\BTP\\Satellite\\Data\\Test2\\LE07_L1GT_147040_20050506_20170116_01_T2\\LE07_L1GT_147040_20050506_20170116_01_T2_B1.TIF')"
   ]
  },
  {
   "cell_type": "code",
   "execution_count": 4,
   "metadata": {},
   "outputs": [
    {
     "name": "stdout",
     "output_type": "stream",
     "text": [
      "(7801, 7071, 1)\n"
     ]
    }
   ],
   "source": [
    "col, row, band = ds.RasterXSize, ds.RasterYSize, ds.RasterCount\n",
    "print(col, row, band)"
   ]
  },
  {
   "cell_type": "code",
   "execution_count": 8,
   "metadata": {},
   "outputs": [
    {
     "name": "stdout",
     "output_type": "stream",
     "text": [
      "(514485.0, 30.0, 0.0, 3300915.0, 0.0, -30.0)\n"
     ]
    }
   ],
   "source": [
    "xoff, a, b, yoff, d, e = ds.GetGeoTransform()\n",
    "print(xoff, a, b, yoff, d, e)\n",
    "\n",
    "# details about the params: GDAL affine transform parameters\n",
    "# xoff,yoff = left corner \n",
    "# a,e = weight,height of pixels\n",
    "# b,d = rotation of the image (zero if image is north up)"
   ]
  },
  {
   "cell_type": "code",
   "execution_count": 9,
   "metadata": {
    "collapsed": true
   },
   "outputs": [],
   "source": [
    "def pixel2coord(x, y):\n",
    "    \"\"\"Returns global coordinates from coordinates x,y of the pixel\"\"\"\n",
    "    xp = a * x + b * y + xoff\n",
    "    yp = d * x + e * y + yoff\n",
    "    return(xp, yp)"
   ]
  },
  {
   "cell_type": "code",
   "execution_count": 10,
   "metadata": {},
   "outputs": [
    {
     "name": "stdout",
     "output_type": "stream",
     "text": [
      "(631485.0, 3194865.0)\n"
     ]
    }
   ],
   "source": [
    "x,y = pixel2coord(col/2,row/2)\n",
    "print (x, y)"
   ]
  },
  {
   "cell_type": "markdown",
   "metadata": {},
   "source": [
    "#### These global coordinates are in a *projected coordinated system*, which is a representation of the spheroidal earth's surface, but flattened and distorted onto a plane.\n",
    "#### To convert these into latitude and longitude, we need to convert these coordinates into *geographic coordinate system*."
   ]
  },
  {
   "cell_type": "code",
   "execution_count": 11,
   "metadata": {
    "collapsed": true
   },
   "outputs": [],
   "source": [
    "# get the existing coordinate system\n",
    "old_cs= osr.SpatialReference()\n",
    "old_cs.ImportFromWkt(ds.GetProjectionRef())\n",
    "\n",
    "# create the new coordinate system\n",
    "wgs84_wkt = \"\"\"\n",
    "GEOGCS[\"WGS 84\",\n",
    "    DATUM[\"WGS_1984\",\n",
    "        SPHEROID[\"WGS 84\",6378137,298.257223563,\n",
    "            AUTHORITY[\"EPSG\",\"7030\"]],\n",
    "        AUTHORITY[\"EPSG\",\"6326\"]],\n",
    "    PRIMEM[\"Greenwich\",0,\n",
    "        AUTHORITY[\"EPSG\",\"8901\"]],\n",
    "    UNIT[\"degree\",0.01745329251994328,\n",
    "        AUTHORITY[\"EPSG\",\"9122\"]],\n",
    "    AUTHORITY[\"EPSG\",\"4326\"]]\"\"\"\n",
    "new_cs = osr.SpatialReference()\n",
    "new_cs.ImportFromWkt(wgs84_wkt)\n",
    "\n",
    "# create a transform object to convert between coordinate systems\n",
    "transform = osr.CoordinateTransformation(old_cs,new_cs) "
   ]
  },
  {
   "cell_type": "code",
   "execution_count": 12,
   "metadata": {
    "collapsed": true
   },
   "outputs": [],
   "source": [
    "# converting into geographic coordinate system\n",
    "lonx, latx, z = transform.TransformPoint(x,y)"
   ]
  },
  {
   "cell_type": "code",
   "execution_count": 13,
   "metadata": {},
   "outputs": [
    {
     "name": "stdout",
     "output_type": "stream",
     "text": [
      "(28.874828865052745, 76.34826151423796, 0.0)\n"
     ]
    }
   ],
   "source": [
    "print (latx, lonx, z)"
   ]
  },
  {
   "cell_type": "code",
   "execution_count": 10,
   "metadata": {},
   "outputs": [
    {
     "name": "stdout",
     "output_type": "stream",
     "text": [
      "11647\n"
     ]
    }
   ],
   "source": [
    "# rb = ds.GetRasterBand(1)\n",
    "px,py = col/2,row/2                   # the pixel location\n",
    "pix = ds.ReadAsArray(px,py,1,1)     \n",
    "print pix[0][0]                        # pixel value"
   ]
  },
  {
   "cell_type": "markdown",
   "metadata": {},
   "source": [
    "# Reverse Geocoding\n",
    "Converting a lat/long to a physical address or location. "
   ]
  },
  {
   "cell_type": "markdown",
   "metadata": {},
   "source": [
    "We want the name of the DISTRICT."
   ]
  },
  {
   "cell_type": "markdown",
   "metadata": {},
   "source": [
    "## --------------------------------------------------------------------------------\n",
    "### API 1: Not so accurate\n",
    "## --------------------------------------------------------------------------------"
   ]
  },
  {
   "cell_type": "code",
   "execution_count": 11,
   "metadata": {},
   "outputs": [
    {
     "name": "stdout",
     "output_type": "stream",
     "text": [
      "Loading formatted geocoded file...\n",
      "[{'name': 'Jaisalmer', 'cc': 'IN', 'lon': '70.90387', 'admin1': 'Rajasthan', 'admin2': 'Jaisalmer', 'lat': '26.91763'}]\n",
      "<type 'list'>\n",
      "<type 'dict'>\n"
     ]
    },
    {
     "data": {
      "text/plain": [
       "{'admin1': 'Rajasthan',\n",
       " 'admin2': 'Jaisalmer',\n",
       " 'cc': 'IN',\n",
       " 'lat': '26.91763',\n",
       " 'lon': '70.90387',\n",
       " 'name': 'Jaisalmer'}"
      ]
     },
     "execution_count": 11,
     "metadata": {},
     "output_type": "execute_result"
    }
   ],
   "source": [
    "coordinates = (latx,lonx)\n",
    "results = rg.search(coordinates)\n",
    "print results\n",
    "print type(results)\n",
    "print type(results[0])\n",
    "results[0]"
   ]
  },
  {
   "cell_type": "code",
   "execution_count": 12,
   "metadata": {},
   "outputs": [
    {
     "name": "stdout",
     "output_type": "stream",
     "text": [
      "The pixel value for the location Lat:  28.5, Long:  70.2 (Sadiqabad      ) is       0\n",
      "The pixel value for the location Lat:  28.0, Long:  70.2 (Sadiqabad      ) is       0\n",
      "The pixel value for the location Lat:  27.4, Long:  70.2 (Khairpur       ) is       0\n",
      "The pixel value for the location Lat:  26.9, Long:  70.2 (Jaisalmer      ) is       0\n",
      "The pixel value for the location Lat:  26.4, Long:  70.2 (Jaisalmer      ) is       0\n",
      "The pixel value for the location Lat:  28.5, Long:  70.8 (Khanpur        ) is       0\n",
      "The pixel value for the location Lat:  28.0, Long:  70.8 (Kot Samaba     ) is   11992\n",
      "The pixel value for the location Lat:  27.4, Long:  70.8 (Jaisalmer      ) is   11661\n",
      "The pixel value for the location Lat:  26.9, Long:  70.8 (Jaisalmer      ) is   11701\n",
      "The pixel value for the location Lat:  26.4, Long:  70.8 (Jaisalmer      ) is       0\n",
      "The pixel value for the location Lat:  28.5, Long:  71.4 (Ahmadpur East  ) is       0\n",
      "The pixel value for the location Lat:  27.9, Long:  71.4 (Khanpur        ) is   11247\n",
      "The pixel value for the location Lat:  27.4, Long:  71.4 (Jaisalmer      ) is   11653\n",
      "The pixel value for the location Lat:  26.9, Long:  71.3 (Jaisalmer      ) is   11307\n",
      "The pixel value for the location Lat:  26.4, Long:  71.3 (Barmer         ) is       0\n",
      "The pixel value for the location Lat:  28.5, Long:  72.0 (Yazman         ) is       0\n",
      "The pixel value for the location Lat:  27.9, Long:  71.9 (Phalodi        ) is   11547\n",
      "The pixel value for the location Lat:  27.4, Long:  71.9 (Pokaran        ) is   11637\n",
      "The pixel value for the location Lat:  26.9, Long:  71.9 (Pokaran        ) is   11881\n",
      "The pixel value for the location Lat:  26.4, Long:  71.9 (Pokaran        ) is       0\n",
      "The pixel value for the location Lat:  28.4, Long:  72.5 (Fort Abbas     ) is       0\n",
      "The pixel value for the location Lat:  27.9, Long:  72.5 (Bikaner        ) is       0\n",
      "The pixel value for the location Lat:  27.4, Long:  72.5 (Phalodi        ) is       0\n",
      "The pixel value for the location Lat:  26.9, Long:  72.5 (Phalodi        ) is       0\n",
      "The pixel value for the location Lat:  26.4, Long:  72.5 (Jodhpur        ) is       0\n"
     ]
    }
   ],
   "source": [
    "k = 4  # If we want k*k pixels in total from the image\n",
    "\n",
    "\n",
    "for i in range(0,col,col/k):\n",
    "    for j in range(0,row,row/k):\n",
    "        \n",
    "        # fetching the lat and lon coordinates \n",
    "        x,y = pixel2coord(i,j)\n",
    "        lonx, latx, z = transform.TransformPoint(x,y)\n",
    "        \n",
    "        # fetching the name of district\n",
    "        coordinates = (latx,lonx)\n",
    "        results = rg.search(coordinates)\n",
    "        \n",
    "        # The pixel value for that location\n",
    "        px,py = i,j                   \n",
    "        pix = ds.ReadAsArray(px,py,1,1)     \n",
    "        pix = pix[0][0]\n",
    "        \n",
    "        # printing\n",
    "        s = \"The pixel value for the location Lat: {0:5.1f}, Long: {1:5.1f} ({2:15}) is {3:7}\".format(latx,lonx,results[0][\"name\"],pix)\n",
    "        print (s)"
   ]
  },
  {
   "cell_type": "markdown",
   "metadata": {},
   "source": [
    "## --------------------------------------------------------------------------------\n",
    "### API 2\n",
    "## --------------------------------------------------------------------------------"
   ]
  },
  {
   "cell_type": "code",
   "execution_count": 13,
   "metadata": {},
   "outputs": [
    {
     "name": "stdout",
     "output_type": "stream",
     "text": [
      "<class 'geocoder.google_reverse.GoogleReverse'>\n",
      "<[OK] Google - Reverse #6 results>\n",
      "Amrit Nagar\n",
      "RJ\n",
      "Rajasthan\n",
      "IN\n",
      "India\n",
      "Unnamed Road, Amrit Nagar, Rajasthan 342023, India\n"
     ]
    }
   ],
   "source": [
    "g = geocoder.google([latx,lonx], method='reverse')\n",
    "print type(g)\n",
    "print g\n",
    "print g.city\n",
    "print g.state\n",
    "print g.state_long\n",
    "print g.country\n",
    "print g.country_long\n",
    "print g.address"
   ]
  },
  {
   "cell_type": "markdown",
   "metadata": {},
   "source": [
    "###### The above wrapper for Google API is not good enough for us. Its not providing us with the district."
   ]
  },
  {
   "cell_type": "markdown",
   "metadata": {},
   "source": [
    "#####  Lets try another python library available for the Google Geo API "
   ]
  },
  {
   "cell_type": "code",
   "execution_count": 14,
   "metadata": {},
   "outputs": [
    {
     "name": "stdout",
     "output_type": "stream",
     "text": [
      "Amrit Nagar\n",
      "India\n",
      "None\n",
      "Rajasthan\n",
      "Barmer\n",
      "None\n"
     ]
    }
   ],
   "source": [
    "results = Geocoder.reverse_geocode(latx, lonx)\n",
    "print results.city\n",
    "print results.country\n",
    "print results.street_address\n",
    "print results.administrative_area_level_1\n",
    "print results.administrative_area_level_2  ## THIS GIVES THE DISTRICT !! <----------------\n",
    "print results.administrative_area_level_3"
   ]
  },
  {
   "cell_type": "markdown",
   "metadata": {},
   "source": [
    "##### This is what we need, we are getting the district name for given lat,lon coordinates"
   ]
  },
  {
   "cell_type": "code",
   "execution_count": 15,
   "metadata": {},
   "outputs": [
    {
     "name": "stdout",
     "output_type": "stream",
     "text": [
      "<type 'unicode'>\n",
      "<type 'str'>\n",
      "India\n"
     ]
    }
   ],
   "source": [
    "## Converting the unicode string to ascii string\n",
    "v = results.country\n",
    "print type(v)\n",
    "v = v.encode(\"ascii\")\n",
    "print type(v)\n",
    "print v"
   ]
  },
  {
   "cell_type": "markdown",
   "metadata": {},
   "source": [
    "##### Now lets check for an image from Rajasthan"
   ]
  },
  {
   "cell_type": "code",
   "execution_count": 16,
   "metadata": {},
   "outputs": [
    {
     "name": "stdout",
     "output_type": "stream",
     "text": [
      "Lat:  27.4, Long:  70.2, District: Jaisalmer   , Pixel Val:       0\n",
      "Lat:  26.9, Long:  70.2, District: Jaisalmer   , Pixel Val:       0\n",
      "Lat:  26.4, Long:  70.2, District: Jaisalmer   , Pixel Val:       0\n",
      "Lat:  27.4, Long:  70.8, District: Jaisalmer   , Pixel Val:   11661\n",
      "Lat:  26.9, Long:  70.8, District: Jaisalmer   , Pixel Val:   11701\n",
      "Lat:  26.4, Long:  70.8, District: Jaisalmer   , Pixel Val:       0\n",
      "Lat:  27.4, Long:  71.4, District: Jaisalmer   , Pixel Val:   11653\n",
      "Lat:  26.9, Long:  71.3, District: Jaisalmer   , Pixel Val:   11307\n",
      "Lat:  26.4, Long:  71.3, District: Barmer      , Pixel Val:       0\n",
      "Lat:  27.9, Long:  71.9, District: Jaisalmer   , Pixel Val:   11547\n",
      "Lat:  27.4, Long:  71.9, District: Jodhpur     , Pixel Val:   11637\n",
      "Lat:  26.9, Long:  71.9, District: Jaisalmer   , Pixel Val:   11881\n",
      "Lat:  26.4, Long:  71.9, District: Barmer      , Pixel Val:       0\n",
      "Lat:  28.4, Long:  72.5, District: Bikaner     , Pixel Val:       0\n",
      "Lat:  27.9, Long:  72.5, District: Bikaner     , Pixel Val:       0\n",
      "Lat:  27.4, Long:  72.5, District: Jodhpur     , Pixel Val:       0\n",
      "Lat:  26.9, Long:  72.5, District: Jodhpur     , Pixel Val:       0\n",
      "Lat:  26.4, Long:  72.5, District: Barmer      , Pixel Val:       0\n"
     ]
    }
   ],
   "source": [
    "k = 4  # If we want k*k pixels in total from the image\n",
    "\n",
    "\n",
    "for i in range(0,col,col/k):\n",
    "    for j in range(0,row,row/k):\n",
    "        \n",
    "        # fetching the lat and lon coordinates \n",
    "        x,y = pixel2coord(i,j)\n",
    "        lonx, latx, z = transform.TransformPoint(x,y)\n",
    "        \n",
    "        # fetching the name of district\n",
    "        results = Geocoder.reverse_geocode(latx, lonx)\n",
    "        \n",
    "        # The pixel value for that location\n",
    "        px,py = i,j                   \n",
    "        pix = ds.ReadAsArray(px,py,1,1)     \n",
    "        pix = pix[0][0]\n",
    "        \n",
    "        # printing\n",
    "        if results.country.encode('ascii') == 'India':\n",
    "            s = \"Lat: {0:5.1f}, Long: {1:5.1f}, District: {2:12}, Pixel Val: {3:7}\".format(latx,lonx,results.administrative_area_level_2,pix)\n",
    "            print (s)"
   ]
  },
  {
   "cell_type": "markdown",
   "metadata": {},
   "source": [
    "# Bing Maps REST API"
   ]
  },
  {
   "cell_type": "code",
   "execution_count": 17,
   "metadata": {
    "collapsed": true
   },
   "outputs": [],
   "source": [
    "import requests # To make the REST API Call\n",
    "import json"
   ]
  },
  {
   "cell_type": "code",
   "execution_count": 18,
   "metadata": {},
   "outputs": [
    {
     "data": {
      "text/plain": [
       "(26.362894876071923, 72.46299451955348)"
      ]
     },
     "execution_count": 18,
     "metadata": {},
     "output_type": "execute_result"
    }
   ],
   "source": [
    "(latx,lonx)"
   ]
  },
  {
   "cell_type": "code",
   "execution_count": 19,
   "metadata": {
    "collapsed": true
   },
   "outputs": [],
   "source": [
    "url = \"http://dev.virtualearth.net/REST/v1/Locations/\"\n",
    "point = str(latx)+\",\"+str(lonx)\n",
    "key = \"Aktjg1X8bLQ_KhLQbVueYMhXDEMo7OaTweIkBvFojInYE4tVxoTp1bGKWbtU_OPJ\"\n",
    "response = requests.get(url+point+\"?key=\"+key)\n",
    "print(response.status_code)"
   ]
  },
  {
   "cell_type": "code",
   "execution_count": 22,
   "metadata": {},
   "outputs": [
    {
     "name": "stdout",
     "output_type": "stream",
     "text": [
      "<type 'dict'>\n"
     ]
    }
   ],
   "source": [
    "data = response.json()\n",
    "print(type(data))"
   ]
  },
  {
   "cell_type": "code",
   "execution_count": 23,
   "metadata": {},
   "outputs": [
    {
     "data": {
      "text/plain": [
       "{u'authenticationResultCode': u'ValidCredentials',\n",
       " u'brandLogoUri': u'http://dev.virtualearth.net/Branding/logo_powered_by.png',\n",
       " u'copyright': u'Copyright \\xa9 2017 Microsoft and its suppliers. All rights reserved. This API cannot be accessed and the content and any results may not be used, reproduced or transmitted in any manner without express written permission from Microsoft Corporation.',\n",
       " u'resourceSets': [{u'estimatedTotal': 1,\n",
       "   u'resources': [{u'__type': u'Location:http://schemas.microsoft.com/search/local/ws/rest/v1',\n",
       "     u'address': {u'adminDistrict': u'RJ',\n",
       "      u'adminDistrict2': u'Jodhpur',\n",
       "      u'countryRegion': u'India',\n",
       "      u'formattedAddress': u'Shergarh, RJ, India',\n",
       "      u'locality': u'Shergarh',\n",
       "      u'postalCode': u'342028'},\n",
       "     u'bbox': [26.18815, 72.02842, 26.8617, 72.77681],\n",
       "     u'confidence': u'Medium',\n",
       "     u'entityType': u'PopulatedPlace',\n",
       "     u'geocodePoints': [{u'calculationMethod': u'Rooftop',\n",
       "       u'coordinates': [26.46525, 72.40963],\n",
       "       u'type': u'Point',\n",
       "       u'usageTypes': [u'Display', u'Route']}],\n",
       "     u'matchCodes': [u'Good', u'UpHierarchy'],\n",
       "     u'name': u'Shergarh, RJ, India',\n",
       "     u'point': {u'coordinates': [26.46525, 72.40963], u'type': u'Point'}}]}],\n",
       " u'statusCode': 200,\n",
       " u'statusDescription': u'OK',\n",
       " u'traceId': u'6b6742bcfe4a45e7a40575ac7c554d55|HK20300663|7.7.0.0|HK2SCH010250442, i-0ec338f04ce8e61e8.ap-southeast-1a'}"
      ]
     },
     "execution_count": 23,
     "metadata": {},
     "output_type": "execute_result"
    }
   ],
   "source": [
    "data"
   ]
  },
  {
   "cell_type": "code",
   "execution_count": 24,
   "metadata": {},
   "outputs": [
    {
     "data": {
      "text/plain": [
       "'Jodhpur'"
      ]
     },
     "execution_count": 24,
     "metadata": {},
     "output_type": "execute_result"
    }
   ],
   "source": [
    "s = data[\"resourceSets\"][0][\"resources\"][0][\"address\"][\"adminDistrict2\"]\n",
    "s = s.encode(\"ascii\")\n",
    "s"
   ]
  },
  {
   "cell_type": "code",
   "execution_count": 25,
   "metadata": {
    "collapsed": true
   },
   "outputs": [],
   "source": [
    "url = \"http://dev.virtualearth.net/REST/v1/Locations/\"\n",
    "key = \"Aktjg1X8bLQ_KhLQbVueYMhXDEMo7OaTweIkBvFojInYE4tVxoTp1bGKWbtU_OPJ\""
   ]
  },
  {
   "cell_type": "markdown",
   "metadata": {},
   "source": [
    "## Bing API Test\n",
    "#### For 100 pixel locations"
   ]
  },
  {
   "cell_type": "code",
   "execution_count": 33,
   "metadata": {},
   "outputs": [
    {
     "name": "stdout",
     "output_type": "stream",
     "text": [
      "Outside Indian Territory\n",
      "Outside Indian Territory\n",
      "Outside Indian Territory\n",
      "Lat:  27.9, Long:  70.2, District: Jaisalmer   , Pixel Val:       0\n",
      "Lat:  27.7, Long:  70.2, District: Jaisalmer   , Pixel Val:       0\n",
      "Lat:  27.4, Long:  70.2, District: Jaisalmer   , Pixel Val:       0\n",
      "Lat:  27.2, Long:  70.2, District: Jaisalmer   , Pixel Val:       0\n",
      "Lat:  27.0, Long:  70.2, District: Jaisalmer   , Pixel Val:       0\n",
      "Lat:  26.8, Long:  70.2, District: Jaisalmer   , Pixel Val:       0\n",
      "Lat:  26.6, Long:  70.2, District: Jaisalmer   , Pixel Val:       0\n",
      "Lat:  26.4, Long:  70.2, District: Jaisalmer   , Pixel Val:       0\n",
      "Outside Indian Territory\n",
      "Outside Indian Territory\n",
      "Outside Indian Territory\n",
      "Lat:  27.9, Long:  70.4, District: Jaisalmer   , Pixel Val:       0\n",
      "Lat:  27.6, Long:  70.4, District: Jaisalmer   , Pixel Val:   11591\n",
      "Lat:  27.4, Long:  70.4, District: Jaisalmer   , Pixel Val:   11860\n",
      "Lat:  27.2, Long:  70.4, District: Jaisalmer   , Pixel Val:   12666\n",
      "Lat:  27.0, Long:  70.4, District: Jaisalmer   , Pixel Val:   12044\n",
      "Lat:  26.8, Long:  70.4, District: Jaisalmer   , Pixel Val:   12579\n",
      "Lat:  26.6, Long:  70.4, District: Jaisalmer   , Pixel Val:       0\n",
      "Lat:  26.4, Long:  70.4, District: Jaisalmer   , Pixel Val:       0\n",
      "Outside Indian Territory\n",
      "Outside Indian Territory\n",
      "Outside Indian Territory\n",
      "Lat:  27.9, Long:  70.7, District: Jaisalmer   , Pixel Val:   11610\n",
      "Lat:  27.6, Long:  70.7, District: Jaisalmer   , Pixel Val:   11842\n",
      "Lat:  27.4, Long:  70.7, District: Jaisalmer   , Pixel Val:   11577\n",
      "Lat:  27.2, Long:  70.7, District: Jaisalmer   , Pixel Val:   12740\n",
      "Lat:  27.0, Long:  70.7, District: Jaisalmer   , Pixel Val:   12015\n",
      "Lat:  26.8, Long:  70.7, District: Jaisalmer   , Pixel Val:   11851\n",
      "Lat:  26.6, Long:  70.7, District: Jaisalmer   , Pixel Val:       0\n",
      "Lat:  26.4, Long:  70.6, District: Jaisalmer   , Pixel Val:       0\n",
      "Outside Indian Territory\n",
      "Outside Indian Territory\n",
      "Outside Indian Territory\n",
      "Outside Indian Territory\n",
      "Lat:  27.6, Long:  70.9, District: Jaisalmer   , Pixel Val:   11602\n",
      "Lat:  27.4, Long:  70.9, District: Jaisalmer   , Pixel Val:   12231\n",
      "Lat:  27.2, Long:  70.9, District: Jaisalmer   , Pixel Val:   11390\n",
      "Lat:  27.0, Long:  70.9, District: Jaisalmer   , Pixel Val:   11898\n",
      "Lat:  26.8, Long:  70.9, District: Jaisalmer   , Pixel Val:   11736\n",
      "Lat:  26.6, Long:  70.9, District: Jaisalmer   , Pixel Val:       0\n",
      "Lat:  26.4, Long:  70.9, District: Jaisalmer   , Pixel Val:       0\n",
      "Outside Indian Territory\n",
      "Outside Indian Territory\n",
      "Outside Indian Territory\n",
      "Outside Indian Territory\n",
      "Lat:  27.6, Long:  71.1, District: Jaisalmer   , Pixel Val:   12236\n",
      "Lat:  27.4, Long:  71.1, District: Jaisalmer   , Pixel Val:   11572\n",
      "Lat:  27.2, Long:  71.1, District: Jaisalmer   , Pixel Val:   12053\n",
      "Lat:  27.0, Long:  71.1, District: Jaisalmer   , Pixel Val:   11647\n",
      "Lat:  26.8, Long:  71.1, District: Jaisalmer   , Pixel Val:   11882\n",
      "Lat:  26.6, Long:  71.1, District: Jaisalmer   , Pixel Val:   11974\n",
      "Lat:  26.4, Long:  71.1, District: Jaisalmer   , Pixel Val:       0\n",
      "Outside Indian Territory\n",
      "Outside Indian Territory\n",
      "Outside Indian Territory\n",
      "Lat:  27.8, Long:  71.4, District: Jaisalmer   , Pixel Val:   11996\n",
      "Lat:  27.6, Long:  71.4, District: Jaisalmer   , Pixel Val:   11815\n",
      "Lat:  27.4, Long:  71.4, District: Jaisalmer   , Pixel Val:   11647\n",
      "Lat:  27.2, Long:  71.3, District: Jaisalmer   , Pixel Val:   12070\n",
      "Lat:  27.0, Long:  71.3, District: Jaisalmer   , Pixel Val:   11955\n",
      "Lat:  26.8, Long:  71.3, District: Jaisalmer   , Pixel Val:   11199\n",
      "Lat:  26.6, Long:  71.3, District: Jaisalmer   , Pixel Val:   11723\n",
      "Lat:  26.4, Long:  71.3, District: Barmer      , Pixel Val:       0\n",
      "Outside Indian Territory\n",
      "Outside Indian Territory\n",
      "Outside Indian Territory\n",
      "Lat:  27.8, Long:  71.6, District: Jaisalmer   , Pixel Val:   11977\n",
      "Lat:  27.6, Long:  71.6, District: Jaisalmer   , Pixel Val:   11268\n",
      "Lat:  27.4, Long:  71.6, District: Jaisalmer   , Pixel Val:   10623\n",
      "Lat:  27.2, Long:  71.6, District: Jaisalmer   , Pixel Val:   11803\n",
      "Lat:  27.0, Long:  71.6, District: Jaisalmer   , Pixel Val:   11594\n",
      "Lat:  26.8, Long:  71.6, District: Jaisalmer   , Pixel Val:   11549\n",
      "Lat:  26.6, Long:  71.6, District: Jaisalmer   , Pixel Val:   11265\n",
      "Lat:  26.4, Long:  71.6, District: Barmer      , Pixel Val:       0\n",
      "Outside Indian Territory\n",
      "Outside Indian Territory\n",
      "Outside Indian Territory\n",
      "Lat:  27.8, Long:  71.8, District: Jaisalmer   , Pixel Val:   11508\n",
      "Lat:  27.6, Long:  71.8, District: Jaisalmer   , Pixel Val:   11511\n",
      "Lat:  27.4, Long:  71.8, District: Jaisalmer   , Pixel Val:   11616\n",
      "Lat:  27.2, Long:  71.8, District: Jaisalmer   , Pixel Val:   11215\n",
      "Lat:  27.0, Long:  71.8, District: Jaisalmer   , Pixel Val:   11814\n",
      "Lat:  26.8, Long:  71.8, District: Jaisalmer   , Pixel Val:   11511\n",
      "Lat:  26.6, Long:  71.8, District: Jaisalmer   , Pixel Val:   11989\n",
      "Lat:  26.4, Long:  71.8, District: Jaisalmer   , Pixel Val:       0\n",
      "Outside Indian Territory\n",
      "Lat:  28.2, Long:  72.1, District: Bikaner     , Pixel Val:       0\n",
      "Lat:  28.0, Long:  72.1, District: Bikaner     , Pixel Val:   11208\n",
      "Lat:  27.8, Long:  72.0, District: Jaisalmer   , Pixel Val:   11468\n",
      "Lat:  27.6, Long:  72.0, District: Jaisalmer   , Pixel Val:    9761\n",
      "Lat:  27.4, Long:  72.0, District: Jodhpur     , Pixel Val:   11618\n",
      "Lat:  27.2, Long:  72.0, District: Jodhpur     , Pixel Val:   22059\n",
      "Lat:  27.0, Long:  72.0, District: Jaisalmer   , Pixel Val:   11562\n",
      "Lat:  26.8, Long:  72.0, District: Jaisalmer   , Pixel Val:   11302\n",
      "Lat:  26.6, Long:  72.0, District: Jaisalmer   , Pixel Val:   11163\n",
      "Lat:  26.4, Long:  72.0, District: Jaisalmer   , Pixel Val:       0\n",
      "Lat:  28.5, Long:  72.3, District: Bikaner     , Pixel Val:       0\n",
      "Lat:  28.2, Long:  72.3, District: Bikaner     , Pixel Val:       0\n",
      "Lat:  28.0, Long:  72.3, District: Bikaner     , Pixel Val:   10845\n",
      "Lat:  27.8, Long:  72.3, District: Bikaner     , Pixel Val:   10621\n",
      "Lat:  27.6, Long:  72.3, District: Jaisalmer   , Pixel Val:   11299\n",
      "Lat:  27.4, Long:  72.3, District: Jodhpur     , Pixel Val:   11236\n",
      "Lat:  27.2, Long:  72.3, District: Jodhpur     , Pixel Val:   11267\n",
      "Lat:  27.0, Long:  72.3, District: Jodhpur     , Pixel Val:       0\n",
      "Lat:  26.8, Long:  72.2, District: Jodhpur     , Pixel Val:       0\n",
      "Lat:  26.6, Long:  72.2, District: Jodhpur     , Pixel Val:       0\n",
      "Lat:  26.4, Long:  72.2, District: Jodhpur     , Pixel Val:       0\n",
      "Lat:  28.4, Long:  72.5, District: Bikaner     , Pixel Val:       0\n",
      "Lat:  28.2, Long:  72.5, District: Bikaner     , Pixel Val:       0\n",
      "Lat:  28.0, Long:  72.5, District: Bikaner     , Pixel Val:       0\n",
      "Lat:  27.8, Long:  72.5, District: Bikaner     , Pixel Val:       0\n",
      "Lat:  27.6, Long:  72.5, District: Bikaner     , Pixel Val:       0\n",
      "Lat:  27.4, Long:  72.5, District: Jodhpur     , Pixel Val:       0\n",
      "Lat:  27.2, Long:  72.5, District: Jodhpur     , Pixel Val:       0\n",
      "Lat:  27.0, Long:  72.5, District: Jodhpur     , Pixel Val:       0\n",
      "Lat:  26.8, Long:  72.5, District: Jodhpur     , Pixel Val:       0\n",
      "Lat:  26.6, Long:  72.5, District: Jodhpur     , Pixel Val:       0\n",
      "Lat:  26.4, Long:  72.5, District: Jodhpur     , Pixel Val:       0\n"
     ]
    }
   ],
   "source": [
    "k = 10  # If we want k*k pixels in total from the image\n",
    "\n",
    "\n",
    "for i in range(0,col,col/k):\n",
    "    for j in range(0,row,row/k):\n",
    "        \n",
    "        ############### fetching the lat and lon coordinates #######################################\n",
    "        x,y = pixel2coord(i,j)\n",
    "        lonx, latx, z = transform.TransformPoint(x,y)\n",
    "        \n",
    "        ############### fetching the name of district ##############################################\n",
    "        point = str(latx)+\",\"+str(lonx)\n",
    "        response = requests.get(url+point+\"?key=\"+key)\n",
    "        data = response.json()\n",
    "        s = data[\"resourceSets\"][0][\"resources\"][0][\"address\"]\n",
    "        if s[\"countryRegion\"].encode(\"ascii\") != \"India\":\n",
    "            print (\"Outside Indian Territory\")\n",
    "            continue\n",
    "        district = s[\"adminDistrict2\"].encode(\"ascii\")\n",
    "        \n",
    "        ############### The pixel value for that location ##########################################\n",
    "        px,py = i,j                   \n",
    "        pix = ds.ReadAsArray(px,py,1,1)     \n",
    "        pix = pix[0][0]\n",
    "        \n",
    "        # printing\n",
    "        s = \"Lat: {0:5.1f}, Long: {1:5.1f}, District: {2:12}, Pixel Val: {3:7}\".format(latx,lonx,district,pix)\n",
    "        print (s)"
   ]
  },
  {
   "cell_type": "markdown",
   "metadata": {
    "collapsed": true
   },
   "source": [
    "# We have another player in the ground! \n",
    "Can Reverse Geocode by using the python libraries `shapely` and `fiona` with a shapefile for all the district boundaries of India "
   ]
  },
  {
   "cell_type": "code",
   "execution_count": 11,
   "metadata": {
    "collapsed": true
   },
   "outputs": [],
   "source": [
    "import fiona\n",
    "from shapely.geometry import Point, shape\n",
    "\n",
    "# Change this for Win7\n",
    "base = \"/Users/macbook/Documents/BTP/Satellite/Data/Maps/Districts/Census_2011\"\n",
    "fc = fiona.open(base+\"/2011_Dist.shp\")"
   ]
  },
  {
   "cell_type": "code",
   "execution_count": 12,
   "metadata": {
    "collapsed": true
   },
   "outputs": [],
   "source": [
    "def reverse_geocode(pt):\n",
    "    for feature in fc:\n",
    "        if shape(feature['geometry']).contains(pt):\n",
    "            return feature['properties']['DISTRICT']\n",
    "    return \"NRI\""
   ]
  },
  {
   "cell_type": "code",
   "execution_count": 14,
   "metadata": {},
   "outputs": [
    {
     "name": "stdout",
     "output_type": "stream",
     "text": [
      "Outside Indian Territory\n",
      "Outside Indian Territory\n",
      "Outside Indian Territory\n",
      "Lat:  27.9, Long:  70.2, District: Jaisalmer   , Pixel Val:       0\n",
      "Lat:  27.7, Long:  70.2, District: Jaisalmer   , Pixel Val:       0\n",
      "Lat:  27.4, Long:  70.2, District: Jaisalmer   , Pixel Val:       0\n",
      "Lat:  27.2, Long:  70.2, District: Jaisalmer   , Pixel Val:       0\n",
      "Lat:  27.0, Long:  70.2, District: Jaisalmer   , Pixel Val:       0\n",
      "Lat:  26.8, Long:  70.2, District: Jaisalmer   , Pixel Val:       0\n",
      "Lat:  26.6, Long:  70.2, District: Jaisalmer   , Pixel Val:       0\n",
      "Lat:  26.4, Long:  70.2, District: Jaisalmer   , Pixel Val:       0\n",
      "Outside Indian Territory\n",
      "Outside Indian Territory\n",
      "Outside Indian Territory\n",
      "Lat:  27.9, Long:  70.4, District: Jaisalmer   , Pixel Val:       0\n",
      "Lat:  27.6, Long:  70.4, District: Jaisalmer   , Pixel Val:   11591\n",
      "Lat:  27.4, Long:  70.4, District: Jaisalmer   , Pixel Val:   11860\n",
      "Lat:  27.2, Long:  70.4, District: Jaisalmer   , Pixel Val:   12666\n",
      "Lat:  27.0, Long:  70.4, District: Jaisalmer   , Pixel Val:   12044\n",
      "Lat:  26.8, Long:  70.4, District: Jaisalmer   , Pixel Val:   12579\n",
      "Lat:  26.6, Long:  70.4, District: Jaisalmer   , Pixel Val:       0\n",
      "Lat:  26.4, Long:  70.4, District: Jaisalmer   , Pixel Val:       0\n",
      "Outside Indian Territory\n",
      "Outside Indian Territory\n",
      "Outside Indian Territory\n",
      "Lat:  27.9, Long:  70.7, District: Jaisalmer   , Pixel Val:   11610\n",
      "Lat:  27.6, Long:  70.7, District: Jaisalmer   , Pixel Val:   11842\n",
      "Lat:  27.4, Long:  70.7, District: Jaisalmer   , Pixel Val:   11577\n",
      "Lat:  27.2, Long:  70.7, District: Jaisalmer   , Pixel Val:   12740\n",
      "Lat:  27.0, Long:  70.7, District: Jaisalmer   , Pixel Val:   12015\n",
      "Lat:  26.8, Long:  70.7, District: Jaisalmer   , Pixel Val:   11851\n",
      "Lat:  26.6, Long:  70.7, District: Jaisalmer   , Pixel Val:       0\n",
      "Lat:  26.4, Long:  70.6, District: Jaisalmer   , Pixel Val:       0\n",
      "Outside Indian Territory\n",
      "Outside Indian Territory\n",
      "Outside Indian Territory\n",
      "Outside Indian Territory\n",
      "Lat:  27.6, Long:  70.9, District: Jaisalmer   , Pixel Val:   11602\n",
      "Lat:  27.4, Long:  70.9, District: Jaisalmer   , Pixel Val:   12231\n",
      "Lat:  27.2, Long:  70.9, District: Jaisalmer   , Pixel Val:   11390\n",
      "Lat:  27.0, Long:  70.9, District: Jaisalmer   , Pixel Val:   11898\n",
      "Lat:  26.8, Long:  70.9, District: Jaisalmer   , Pixel Val:   11736\n",
      "Lat:  26.6, Long:  70.9, District: Jaisalmer   , Pixel Val:       0\n",
      "Lat:  26.4, Long:  70.9, District: Jaisalmer   , Pixel Val:       0\n",
      "Outside Indian Territory\n",
      "Outside Indian Territory\n",
      "Outside Indian Territory\n",
      "Outside Indian Territory\n",
      "Lat:  27.6, Long:  71.1, District: Jaisalmer   , Pixel Val:   12236\n",
      "Lat:  27.4, Long:  71.1, District: Jaisalmer   , Pixel Val:   11572\n",
      "Lat:  27.2, Long:  71.1, District: Jaisalmer   , Pixel Val:   12053\n",
      "Lat:  27.0, Long:  71.1, District: Jaisalmer   , Pixel Val:   11647\n",
      "Lat:  26.8, Long:  71.1, District: Jaisalmer   , Pixel Val:   11882\n",
      "Lat:  26.6, Long:  71.1, District: Jaisalmer   , Pixel Val:   11974\n",
      "Lat:  26.4, Long:  71.1, District: Jaisalmer   , Pixel Val:       0\n",
      "Outside Indian Territory\n",
      "Outside Indian Territory\n",
      "Outside Indian Territory\n",
      "Lat:  27.8, Long:  71.4, District: Jaisalmer   , Pixel Val:   11996\n",
      "Lat:  27.6, Long:  71.4, District: Jaisalmer   , Pixel Val:   11815\n",
      "Lat:  27.4, Long:  71.4, District: Jaisalmer   , Pixel Val:   11647\n",
      "Lat:  27.2, Long:  71.3, District: Jaisalmer   , Pixel Val:   12070\n",
      "Lat:  27.0, Long:  71.3, District: Jaisalmer   , Pixel Val:   11955\n",
      "Lat:  26.8, Long:  71.3, District: Jaisalmer   , Pixel Val:   11199\n",
      "Lat:  26.6, Long:  71.3, District: Jaisalmer   , Pixel Val:   11723\n",
      "Lat:  26.4, Long:  71.3, District: Barmer      , Pixel Val:       0\n",
      "Outside Indian Territory\n",
      "Outside Indian Territory\n",
      "Outside Indian Territory\n",
      "Lat:  27.8, Long:  71.6, District: Jaisalmer   , Pixel Val:   11977\n",
      "Lat:  27.6, Long:  71.6, District: Jaisalmer   , Pixel Val:   11268\n",
      "Lat:  27.4, Long:  71.6, District: Jaisalmer   , Pixel Val:   10623\n",
      "Lat:  27.2, Long:  71.6, District: Jaisalmer   , Pixel Val:   11803\n",
      "Lat:  27.0, Long:  71.6, District: Jaisalmer   , Pixel Val:   11594\n",
      "Lat:  26.8, Long:  71.6, District: Jaisalmer   , Pixel Val:   11549\n",
      "Lat:  26.6, Long:  71.6, District: Jaisalmer   , Pixel Val:   11265\n",
      "Lat:  26.4, Long:  71.6, District: Barmer      , Pixel Val:       0\n",
      "Outside Indian Territory\n",
      "Outside Indian Territory\n",
      "Outside Indian Territory\n",
      "Lat:  27.8, Long:  71.8, District: Jaisalmer   , Pixel Val:   11508\n",
      "Lat:  27.6, Long:  71.8, District: Jaisalmer   , Pixel Val:   11511\n",
      "Lat:  27.4, Long:  71.8, District: Jaisalmer   , Pixel Val:   11616\n",
      "Lat:  27.2, Long:  71.8, District: Jaisalmer   , Pixel Val:   11215\n",
      "Lat:  27.0, Long:  71.8, District: Jaisalmer   , Pixel Val:   11814\n",
      "Lat:  26.8, Long:  71.8, District: Jaisalmer   , Pixel Val:   11511\n",
      "Lat:  26.6, Long:  71.8, District: Jaisalmer   , Pixel Val:   11989\n",
      "Lat:  26.4, Long:  71.8, District: Jaisalmer   , Pixel Val:       0\n",
      "Outside Indian Territory\n",
      "Lat:  28.2, Long:  72.1, District: Bikaner     , Pixel Val:       0\n",
      "Lat:  28.0, Long:  72.1, District: Bikaner     , Pixel Val:   11208\n",
      "Lat:  27.8, Long:  72.0, District: Jaisalmer   , Pixel Val:   11468\n",
      "Lat:  27.6, Long:  72.0, District: Jaisalmer   , Pixel Val:    9761\n",
      "Lat:  27.4, Long:  72.0, District: Jodhpur     , Pixel Val:   11618\n",
      "Lat:  27.2, Long:  72.0, District: Jodhpur     , Pixel Val:   22059\n",
      "Lat:  27.0, Long:  72.0, District: Jaisalmer   , Pixel Val:   11562\n",
      "Lat:  26.8, Long:  72.0, District: Jaisalmer   , Pixel Val:   11302\n",
      "Lat:  26.6, Long:  72.0, District: Jaisalmer   , Pixel Val:   11163\n",
      "Lat:  26.4, Long:  72.0, District: Jaisalmer   , Pixel Val:       0\n",
      "Lat:  28.5, Long:  72.3, District: Bikaner     , Pixel Val:       0\n",
      "Lat:  28.2, Long:  72.3, District: Bikaner     , Pixel Val:       0\n",
      "Lat:  28.0, Long:  72.3, District: Bikaner     , Pixel Val:   10845\n",
      "Lat:  27.8, Long:  72.3, District: Bikaner     , Pixel Val:   10621\n",
      "Lat:  27.6, Long:  72.3, District: Jaisalmer   , Pixel Val:   11299\n",
      "Lat:  27.4, Long:  72.3, District: Jodhpur     , Pixel Val:   11236\n",
      "Lat:  27.2, Long:  72.3, District: Jodhpur     , Pixel Val:   11267\n",
      "Lat:  27.0, Long:  72.3, District: Jodhpur     , Pixel Val:       0\n",
      "Lat:  26.8, Long:  72.2, District: Jodhpur     , Pixel Val:       0\n",
      "Lat:  26.6, Long:  72.2, District: Jodhpur     , Pixel Val:       0\n",
      "Lat:  26.4, Long:  72.2, District: Jodhpur     , Pixel Val:       0\n",
      "Lat:  28.4, Long:  72.5, District: Bikaner     , Pixel Val:       0\n",
      "Lat:  28.2, Long:  72.5, District: Bikaner     , Pixel Val:       0\n",
      "Lat:  28.0, Long:  72.5, District: Bikaner     , Pixel Val:       0\n",
      "Lat:  27.8, Long:  72.5, District: Bikaner     , Pixel Val:       0\n",
      "Lat:  27.6, Long:  72.5, District: Bikaner     , Pixel Val:       0\n",
      "Lat:  27.4, Long:  72.5, District: Jodhpur     , Pixel Val:       0\n",
      "Lat:  27.2, Long:  72.5, District: Jodhpur     , Pixel Val:       0\n",
      "Lat:  27.0, Long:  72.5, District: Jodhpur     , Pixel Val:       0\n",
      "Lat:  26.8, Long:  72.5, District: Jodhpur     , Pixel Val:       0\n",
      "Lat:  26.6, Long:  72.5, District: Jodhpur     , Pixel Val:       0\n",
      "Lat:  26.4, Long:  72.5, District: Jodhpur     , Pixel Val:       0\n"
     ]
    }
   ],
   "source": [
    "k = 10  # If we want k*k pixels in total from the image\n",
    "\n",
    "\n",
    "for i in range(0,col,col/k):\n",
    "    for j in range(0,row,row/k):\n",
    "        \n",
    "        ############### fetching the lat and lon coordinates #######################################\n",
    "        x,y = pixel2coord(i,j)\n",
    "        lonx, latx, z = transform.TransformPoint(x,y)\n",
    "        \n",
    "        ############### fetching the name of district ##############################################\n",
    "        point = Point(lonx,latx)\n",
    "        district = reverse_geocode(point)\n",
    "        if district==\"NRI\":\n",
    "            print (\"Outside Indian Territory\")\n",
    "            continue\n",
    "        \n",
    "        ############### The pixel value for that location ##########################################\n",
    "        px,py = i,j                   \n",
    "        pix = ds.ReadAsArray(px,py,1,1)     \n",
    "        pix = pix[0][0]\n",
    "        \n",
    "        # printing\n",
    "        s = \"Lat: {0:5.1f}, Long: {1:5.1f}, District: {2:12}, Pixel Val: {3:7}\".format(latx,lonx,district,pix)\n",
    "        print (s)"
   ]
  },
  {
   "cell_type": "markdown",
   "metadata": {},
   "source": [
    "# Now we can proceed to GenFeatures Notebook"
   ]
  }
 ],
 "metadata": {
  "kernelspec": {
   "display_name": "Python 2",
   "language": "python",
   "name": "python2"
  },
  "language_info": {
   "codemirror_mode": {
    "name": "ipython",
    "version": 2
   },
   "file_extension": ".py",
   "mimetype": "text/x-python",
   "name": "python",
   "nbconvert_exporter": "python",
   "pygments_lexer": "ipython2",
   "version": "2.7.14"
  }
 },
 "nbformat": 4,
 "nbformat_minor": 2
}
