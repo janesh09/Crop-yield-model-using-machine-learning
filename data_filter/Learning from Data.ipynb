{
 "cells": [
  {
   "cell_type": "code",
   "execution_count": 1,
   "metadata": {},
   "outputs": [],
   "source": [
    "import pandas as pd\n",
    "import numpy as np\n",
    "from sklearn.linear_model import LinearRegression\n",
    "from sklearn.model_selection import train_test_split\n",
    "from sklearn.metrics import mean_squared_error\n",
    "from math import sqrt\n",
    "\n",
    "import pprint\n",
    "import matplotlib.pyplot as plt\n",
    "import seaborn as sns\n",
    "\n",
    "from sklearn.model_selection import cross_val_score\n",
    "from sklearn import metrics\n",
    "\n",
    "from sklearn.svm import SVR\n",
    "\n",
    "%matplotlib inline"
   ]
  },
  {
   "cell_type": "code",
   "execution_count": 2,
   "metadata": {},
   "outputs": [
    {
     "data": {
      "text/html": [
       "<div>\n",
       "<table border=\"1\" class=\"dataframe\">\n",
       "  <thead>\n",
       "    <tr style=\"text-align: right;\">\n",
       "      <th></th>\n",
       "      <th>State_Name</th>\n",
       "      <th>ind_district</th>\n",
       "      <th>Crop_Year</th>\n",
       "      <th>Season</th>\n",
       "      <th>Crop</th>\n",
       "      <th>Area</th>\n",
       "      <th>Production</th>\n",
       "      <th>Value</th>\n",
       "      <th>X1</th>\n",
       "      <th>X2</th>\n",
       "      <th>...</th>\n",
       "      <th>11_B10_Mn</th>\n",
       "      <th>12_B1_Mn</th>\n",
       "      <th>12_B2_Mn</th>\n",
       "      <th>12_B3_Mn</th>\n",
       "      <th>12_B4_Mn</th>\n",
       "      <th>12_B5_Mn</th>\n",
       "      <th>12_B6_Mn</th>\n",
       "      <th>12_B7_Mn</th>\n",
       "      <th>12_B9_Mn</th>\n",
       "      <th>12_B10_Mn</th>\n",
       "    </tr>\n",
       "  </thead>\n",
       "  <tbody>\n",
       "    <tr>\n",
       "      <th>0</th>\n",
       "      <td>Chandigarh</td>\n",
       "      <td>chandigarh</td>\n",
       "      <td>2005</td>\n",
       "      <td>kharif</td>\n",
       "      <td>Rice</td>\n",
       "      <td>50</td>\n",
       "      <td>250</td>\n",
       "      <td>5.00</td>\n",
       "      <td>400</td>\n",
       "      <td>500</td>\n",
       "      <td>...</td>\n",
       "      <td>10.0</td>\n",
       "      <td>5.0</td>\n",
       "      <td>5.0</td>\n",
       "      <td>5.0</td>\n",
       "      <td>5.0</td>\n",
       "      <td>5.0</td>\n",
       "      <td>5.0</td>\n",
       "      <td>5.0</td>\n",
       "      <td>5.0</td>\n",
       "      <td>5.0</td>\n",
       "    </tr>\n",
       "    <tr>\n",
       "      <th>1</th>\n",
       "      <td>Chandigarh</td>\n",
       "      <td>chandigarh</td>\n",
       "      <td>2007</td>\n",
       "      <td>kharif</td>\n",
       "      <td>Rice</td>\n",
       "      <td>50</td>\n",
       "      <td>250</td>\n",
       "      <td>5.00</td>\n",
       "      <td>250</td>\n",
       "      <td>250</td>\n",
       "      <td>...</td>\n",
       "      <td>10.0</td>\n",
       "      <td>10.0</td>\n",
       "      <td>10.0</td>\n",
       "      <td>10.0</td>\n",
       "      <td>10.0</td>\n",
       "      <td>10.0</td>\n",
       "      <td>10.0</td>\n",
       "      <td>10.0</td>\n",
       "      <td>10.0</td>\n",
       "      <td>10.0</td>\n",
       "    </tr>\n",
       "    <tr>\n",
       "      <th>2</th>\n",
       "      <td>Chandigarh</td>\n",
       "      <td>chandigarh</td>\n",
       "      <td>2008</td>\n",
       "      <td>kharif</td>\n",
       "      <td>Rice</td>\n",
       "      <td>20</td>\n",
       "      <td>100</td>\n",
       "      <td>5.00</td>\n",
       "      <td>250</td>\n",
       "      <td>250</td>\n",
       "      <td>...</td>\n",
       "      <td>10.0</td>\n",
       "      <td>10.0</td>\n",
       "      <td>10.0</td>\n",
       "      <td>10.0</td>\n",
       "      <td>10.0</td>\n",
       "      <td>10.0</td>\n",
       "      <td>10.0</td>\n",
       "      <td>10.0</td>\n",
       "      <td>10.0</td>\n",
       "      <td>10.0</td>\n",
       "    </tr>\n",
       "    <tr>\n",
       "      <th>3</th>\n",
       "      <td>Chandigarh</td>\n",
       "      <td>chandigarh</td>\n",
       "      <td>2009</td>\n",
       "      <td>kharif</td>\n",
       "      <td>Rice</td>\n",
       "      <td>20</td>\n",
       "      <td>100</td>\n",
       "      <td>5.00</td>\n",
       "      <td>100</td>\n",
       "      <td>250</td>\n",
       "      <td>...</td>\n",
       "      <td>5.0</td>\n",
       "      <td>5.0</td>\n",
       "      <td>5.0</td>\n",
       "      <td>5.0</td>\n",
       "      <td>5.0</td>\n",
       "      <td>5.0</td>\n",
       "      <td>5.0</td>\n",
       "      <td>5.0</td>\n",
       "      <td>5.0</td>\n",
       "      <td>5.0</td>\n",
       "    </tr>\n",
       "    <tr>\n",
       "      <th>4</th>\n",
       "      <td>Chandigarh</td>\n",
       "      <td>chandigarh</td>\n",
       "      <td>2010</td>\n",
       "      <td>kharif</td>\n",
       "      <td>Rice</td>\n",
       "      <td>20</td>\n",
       "      <td>103</td>\n",
       "      <td>5.15</td>\n",
       "      <td>100</td>\n",
       "      <td>100</td>\n",
       "      <td>...</td>\n",
       "      <td>10.0</td>\n",
       "      <td>5.0</td>\n",
       "      <td>5.0</td>\n",
       "      <td>5.0</td>\n",
       "      <td>5.0</td>\n",
       "      <td>5.0</td>\n",
       "      <td>5.0</td>\n",
       "      <td>5.0</td>\n",
       "      <td>5.0</td>\n",
       "      <td>5.0</td>\n",
       "    </tr>\n",
       "  </tbody>\n",
       "</table>\n",
       "<p>5 rows × 334 columns</p>\n",
       "</div>"
      ],
      "text/plain": [
       "   State_Name ind_district  Crop_Year  Season  Crop  Area  Production  Value  \\\n",
       "0  Chandigarh   chandigarh       2005  kharif  Rice    50         250   5.00   \n",
       "1  Chandigarh   chandigarh       2007  kharif  Rice    50         250   5.00   \n",
       "2  Chandigarh   chandigarh       2008  kharif  Rice    20         100   5.00   \n",
       "3  Chandigarh   chandigarh       2009  kharif  Rice    20         100   5.00   \n",
       "4  Chandigarh   chandigarh       2010  kharif  Rice    20         103   5.15   \n",
       "\n",
       "    X1   X2    ...      11_B10_Mn  12_B1_Mn  12_B2_Mn  12_B3_Mn  12_B4_Mn  \\\n",
       "0  400  500    ...           10.0       5.0       5.0       5.0       5.0   \n",
       "1  250  250    ...           10.0      10.0      10.0      10.0      10.0   \n",
       "2  250  250    ...           10.0      10.0      10.0      10.0      10.0   \n",
       "3  100  250    ...            5.0       5.0       5.0       5.0       5.0   \n",
       "4  100  100    ...           10.0       5.0       5.0       5.0       5.0   \n",
       "\n",
       "   12_B5_Mn  12_B6_Mn  12_B7_Mn  12_B9_Mn  12_B10_Mn  \n",
       "0       5.0       5.0       5.0       5.0        5.0  \n",
       "1      10.0      10.0      10.0      10.0       10.0  \n",
       "2      10.0      10.0      10.0      10.0       10.0  \n",
       "3       5.0       5.0       5.0       5.0        5.0  \n",
       "4       5.0       5.0       5.0       5.0        5.0  \n",
       "\n",
       "[5 rows x 334 columns]"
      ]
     },
     "execution_count": 2,
     "metadata": {},
     "output_type": "execute_result"
    }
   ],
   "source": [
    "# importing the dataset we prepared and saved using Data Cleaning Notebook\n",
    "rice = pd.read_csv(\"/Users/macbook/Documents/BTP/Notebook/BTP/Satellite/Rice_Ready.csv\")\n",
    "rice = rice.drop([\"Unnamed: 0\"],axis=1)\n",
    "rice.head()"
   ]
  },
  {
   "cell_type": "code",
   "execution_count": 3,
   "metadata": {},
   "outputs": [],
   "source": [
    "colss = list(rice.columns.values)"
   ]
  },
  {
   "cell_type": "code",
   "execution_count": 4,
   "metadata": {},
   "outputs": [
    {
     "data": {
      "text/plain": [
       "334"
      ]
     },
     "execution_count": 4,
     "metadata": {},
     "output_type": "execute_result"
    }
   ],
   "source": [
    "len(colss)"
   ]
  },
  {
   "cell_type": "markdown",
   "metadata": {},
   "source": [
    "### 334 = 10 + 216 + 108"
   ]
  },
  {
   "cell_type": "code",
   "execution_count": 5,
   "metadata": {},
   "outputs": [],
   "source": [
    "select = colss[8:226]"
   ]
  },
  {
   "cell_type": "code",
   "execution_count": 6,
   "metadata": {},
   "outputs": [],
   "source": [
    "X = rice[select]\n",
    "y = rice[\"Value\"]*1000"
   ]
  },
  {
   "cell_type": "code",
   "execution_count": 7,
   "metadata": {},
   "outputs": [
    {
     "data": {
      "text/html": [
       "<div>\n",
       "<table border=\"1\" class=\"dataframe\">\n",
       "  <thead>\n",
       "    <tr style=\"text-align: right;\">\n",
       "      <th></th>\n",
       "      <th>X1</th>\n",
       "      <th>X2</th>\n",
       "      <th>1_B1_M</th>\n",
       "      <th>1_B1_V</th>\n",
       "      <th>1_B2_M</th>\n",
       "      <th>1_B2_V</th>\n",
       "      <th>1_B3_M</th>\n",
       "      <th>1_B3_V</th>\n",
       "      <th>1_B4_M</th>\n",
       "      <th>1_B4_V</th>\n",
       "      <th>...</th>\n",
       "      <th>12_B5_M</th>\n",
       "      <th>12_B5_V</th>\n",
       "      <th>12_B6_M</th>\n",
       "      <th>12_B6_V</th>\n",
       "      <th>12_B7_M</th>\n",
       "      <th>12_B7_V</th>\n",
       "      <th>12_B9_M</th>\n",
       "      <th>12_B9_V</th>\n",
       "      <th>12_B10_M</th>\n",
       "      <th>12_B10_V</th>\n",
       "    </tr>\n",
       "  </thead>\n",
       "  <tbody>\n",
       "    <tr>\n",
       "      <th>count</th>\n",
       "      <td>3.280000e+02</td>\n",
       "      <td>3.280000e+02</td>\n",
       "      <td>328.000000</td>\n",
       "      <td>328.000000</td>\n",
       "      <td>328.000000</td>\n",
       "      <td>328.000000</td>\n",
       "      <td>328.000000</td>\n",
       "      <td>328.000000</td>\n",
       "      <td>328.000000</td>\n",
       "      <td>328.000000</td>\n",
       "      <td>...</td>\n",
       "      <td>328.000000</td>\n",
       "      <td>328.000000</td>\n",
       "      <td>328.000000</td>\n",
       "      <td>328.000000</td>\n",
       "      <td>328.000000</td>\n",
       "      <td>328.000000</td>\n",
       "      <td>328.000000</td>\n",
       "      <td>328.000000</td>\n",
       "      <td>328.000000</td>\n",
       "      <td>328.000000</td>\n",
       "    </tr>\n",
       "    <tr>\n",
       "      <th>mean</th>\n",
       "      <td>1.950245e+05</td>\n",
       "      <td>1.919716e+05</td>\n",
       "      <td>9.182927</td>\n",
       "      <td>13.259146</td>\n",
       "      <td>6.496951</td>\n",
       "      <td>10.216463</td>\n",
       "      <td>7.277439</td>\n",
       "      <td>12.277439</td>\n",
       "      <td>10.829268</td>\n",
       "      <td>13.719512</td>\n",
       "      <td>...</td>\n",
       "      <td>4.385467</td>\n",
       "      <td>4.972324</td>\n",
       "      <td>12.556707</td>\n",
       "      <td>9.899831</td>\n",
       "      <td>2.426999</td>\n",
       "      <td>3.474390</td>\n",
       "      <td>14.232249</td>\n",
       "      <td>11.854234</td>\n",
       "      <td>221.661484</td>\n",
       "      <td>342.035772</td>\n",
       "    </tr>\n",
       "    <tr>\n",
       "      <th>std</th>\n",
       "      <td>2.925836e+05</td>\n",
       "      <td>2.925789e+05</td>\n",
       "      <td>25.121663</td>\n",
       "      <td>39.173220</td>\n",
       "      <td>20.421551</td>\n",
       "      <td>32.127405</td>\n",
       "      <td>22.737147</td>\n",
       "      <td>39.657315</td>\n",
       "      <td>26.708211</td>\n",
       "      <td>35.481149</td>\n",
       "      <td>...</td>\n",
       "      <td>12.157602</td>\n",
       "      <td>19.456249</td>\n",
       "      <td>25.190668</td>\n",
       "      <td>21.751825</td>\n",
       "      <td>8.235961</td>\n",
       "      <td>16.688323</td>\n",
       "      <td>27.993943</td>\n",
       "      <td>25.203706</td>\n",
       "      <td>180.640592</td>\n",
       "      <td>598.626471</td>\n",
       "    </tr>\n",
       "    <tr>\n",
       "      <th>min</th>\n",
       "      <td>2.000000e+00</td>\n",
       "      <td>6.000000e+00</td>\n",
       "      <td>0.000000</td>\n",
       "      <td>0.000000</td>\n",
       "      <td>0.000000</td>\n",
       "      <td>0.000000</td>\n",
       "      <td>0.000000</td>\n",
       "      <td>0.000000</td>\n",
       "      <td>0.000000</td>\n",
       "      <td>0.000000</td>\n",
       "      <td>...</td>\n",
       "      <td>0.000000</td>\n",
       "      <td>0.000000</td>\n",
       "      <td>0.000000</td>\n",
       "      <td>0.000000</td>\n",
       "      <td>0.000000</td>\n",
       "      <td>0.000000</td>\n",
       "      <td>0.000000</td>\n",
       "      <td>0.000000</td>\n",
       "      <td>1.000000</td>\n",
       "      <td>0.000000</td>\n",
       "    </tr>\n",
       "    <tr>\n",
       "      <th>25%</th>\n",
       "      <td>1.400000e+04</td>\n",
       "      <td>1.528500e+04</td>\n",
       "      <td>0.000000</td>\n",
       "      <td>0.000000</td>\n",
       "      <td>0.000000</td>\n",
       "      <td>0.000000</td>\n",
       "      <td>0.000000</td>\n",
       "      <td>0.000000</td>\n",
       "      <td>0.000000</td>\n",
       "      <td>0.000000</td>\n",
       "      <td>...</td>\n",
       "      <td>0.000000</td>\n",
       "      <td>0.000000</td>\n",
       "      <td>0.000000</td>\n",
       "      <td>0.000000</td>\n",
       "      <td>0.000000</td>\n",
       "      <td>0.000000</td>\n",
       "      <td>0.000000</td>\n",
       "      <td>0.000000</td>\n",
       "      <td>51.500000</td>\n",
       "      <td>22.000000</td>\n",
       "    </tr>\n",
       "    <tr>\n",
       "      <th>50%</th>\n",
       "      <td>8.149350e+04</td>\n",
       "      <td>7.543400e+04</td>\n",
       "      <td>0.000000</td>\n",
       "      <td>0.000000</td>\n",
       "      <td>0.000000</td>\n",
       "      <td>0.000000</td>\n",
       "      <td>0.000000</td>\n",
       "      <td>0.000000</td>\n",
       "      <td>0.000000</td>\n",
       "      <td>0.000000</td>\n",
       "      <td>...</td>\n",
       "      <td>0.000000</td>\n",
       "      <td>0.000000</td>\n",
       "      <td>0.000000</td>\n",
       "      <td>0.000000</td>\n",
       "      <td>0.000000</td>\n",
       "      <td>0.000000</td>\n",
       "      <td>0.000000</td>\n",
       "      <td>0.000000</td>\n",
       "      <td>222.500000</td>\n",
       "      <td>157.500000</td>\n",
       "    </tr>\n",
       "    <tr>\n",
       "      <th>75%</th>\n",
       "      <td>2.586915e+05</td>\n",
       "      <td>2.510000e+05</td>\n",
       "      <td>0.000000</td>\n",
       "      <td>5.000000</td>\n",
       "      <td>0.000000</td>\n",
       "      <td>3.000000</td>\n",
       "      <td>0.000000</td>\n",
       "      <td>3.000000</td>\n",
       "      <td>2.000000</td>\n",
       "      <td>8.000000</td>\n",
       "      <td>...</td>\n",
       "      <td>0.000000</td>\n",
       "      <td>2.000000</td>\n",
       "      <td>9.000000</td>\n",
       "      <td>11.250000</td>\n",
       "      <td>0.000000</td>\n",
       "      <td>0.000000</td>\n",
       "      <td>10.750000</td>\n",
       "      <td>17.000000</td>\n",
       "      <td>329.750000</td>\n",
       "      <td>429.750000</td>\n",
       "    </tr>\n",
       "    <tr>\n",
       "      <th>max</th>\n",
       "      <td>1.710000e+06</td>\n",
       "      <td>1.710000e+06</td>\n",
       "      <td>208.000000</td>\n",
       "      <td>297.000000</td>\n",
       "      <td>181.000000</td>\n",
       "      <td>258.000000</td>\n",
       "      <td>201.000000</td>\n",
       "      <td>324.000000</td>\n",
       "      <td>215.000000</td>\n",
       "      <td>242.000000</td>\n",
       "      <td>...</td>\n",
       "      <td>70.000000</td>\n",
       "      <td>291.000000</td>\n",
       "      <td>125.000000</td>\n",
       "      <td>240.000000</td>\n",
       "      <td>55.000000</td>\n",
       "      <td>270.000000</td>\n",
       "      <td>141.000000</td>\n",
       "      <td>270.000000</td>\n",
       "      <td>771.000000</td>\n",
       "      <td>8040.000000</td>\n",
       "    </tr>\n",
       "  </tbody>\n",
       "</table>\n",
       "<p>8 rows × 218 columns</p>\n",
       "</div>"
      ],
      "text/plain": [
       "                 X1            X2      1_B1_M      1_B1_V      1_B2_M  \\\n",
       "count  3.280000e+02  3.280000e+02  328.000000  328.000000  328.000000   \n",
       "mean   1.950245e+05  1.919716e+05    9.182927   13.259146    6.496951   \n",
       "std    2.925836e+05  2.925789e+05   25.121663   39.173220   20.421551   \n",
       "min    2.000000e+00  6.000000e+00    0.000000    0.000000    0.000000   \n",
       "25%    1.400000e+04  1.528500e+04    0.000000    0.000000    0.000000   \n",
       "50%    8.149350e+04  7.543400e+04    0.000000    0.000000    0.000000   \n",
       "75%    2.586915e+05  2.510000e+05    0.000000    5.000000    0.000000   \n",
       "max    1.710000e+06  1.710000e+06  208.000000  297.000000  181.000000   \n",
       "\n",
       "           1_B2_V      1_B3_M      1_B3_V      1_B4_M      1_B4_V  \\\n",
       "count  328.000000  328.000000  328.000000  328.000000  328.000000   \n",
       "mean    10.216463    7.277439   12.277439   10.829268   13.719512   \n",
       "std     32.127405   22.737147   39.657315   26.708211   35.481149   \n",
       "min      0.000000    0.000000    0.000000    0.000000    0.000000   \n",
       "25%      0.000000    0.000000    0.000000    0.000000    0.000000   \n",
       "50%      0.000000    0.000000    0.000000    0.000000    0.000000   \n",
       "75%      3.000000    0.000000    3.000000    2.000000    8.000000   \n",
       "max    258.000000  201.000000  324.000000  215.000000  242.000000   \n",
       "\n",
       "          ...          12_B5_M     12_B5_V     12_B6_M     12_B6_V  \\\n",
       "count     ...       328.000000  328.000000  328.000000  328.000000   \n",
       "mean      ...         4.385467    4.972324   12.556707    9.899831   \n",
       "std       ...        12.157602   19.456249   25.190668   21.751825   \n",
       "min       ...         0.000000    0.000000    0.000000    0.000000   \n",
       "25%       ...         0.000000    0.000000    0.000000    0.000000   \n",
       "50%       ...         0.000000    0.000000    0.000000    0.000000   \n",
       "75%       ...         0.000000    2.000000    9.000000   11.250000   \n",
       "max       ...        70.000000  291.000000  125.000000  240.000000   \n",
       "\n",
       "          12_B7_M     12_B7_V     12_B9_M     12_B9_V    12_B10_M     12_B10_V  \n",
       "count  328.000000  328.000000  328.000000  328.000000  328.000000   328.000000  \n",
       "mean     2.426999    3.474390   14.232249   11.854234  221.661484   342.035772  \n",
       "std      8.235961   16.688323   27.993943   25.203706  180.640592   598.626471  \n",
       "min      0.000000    0.000000    0.000000    0.000000    1.000000     0.000000  \n",
       "25%      0.000000    0.000000    0.000000    0.000000   51.500000    22.000000  \n",
       "50%      0.000000    0.000000    0.000000    0.000000  222.500000   157.500000  \n",
       "75%      0.000000    0.000000   10.750000   17.000000  329.750000   429.750000  \n",
       "max     55.000000  270.000000  141.000000  270.000000  771.000000  8040.000000  \n",
       "\n",
       "[8 rows x 218 columns]"
      ]
     },
     "execution_count": 7,
     "metadata": {},
     "output_type": "execute_result"
    }
   ],
   "source": [
    "X.describe()"
   ]
  },
  {
   "cell_type": "code",
   "execution_count": 8,
   "metadata": {},
   "outputs": [
    {
     "name": "stderr",
     "output_type": "stream",
     "text": [
      "/usr/local/lib/python2.7/site-packages/ipykernel/__main__.py:6: SettingWithCopyWarning: \n",
      "A value is trying to be set on a copy of a slice from a DataFrame.\n",
      "Try using .loc[row_indexer,col_indexer] = value instead\n",
      "\n",
      "See the caveats in the documentation: http://pandas.pydata.org/pandas-docs/stable/indexing.html#indexing-view-versus-copy\n"
     ]
    }
   ],
   "source": [
    "# Z-Score Normalization \n",
    "\n",
    "colms = list(X.columns)\n",
    "for col in colms:\n",
    "    col_zscore = col + '_zscore'\n",
    "    X[col_zscore] = (X[col] - X[col].mean())/X[col].std(ddof=0)"
   ]
  },
  {
   "cell_type": "code",
   "execution_count": 9,
   "metadata": {},
   "outputs": [
    {
     "data": {
      "text/plain": [
       "436"
      ]
     },
     "execution_count": 9,
     "metadata": {},
     "output_type": "execute_result"
    }
   ],
   "source": [
    "cols = list(X.columns.values)\n",
    "len(cols)"
   ]
  },
  {
   "cell_type": "code",
   "execution_count": 32,
   "metadata": {},
   "outputs": [],
   "source": [
    "# Contains all the features (Last 2 years Crop Production and the Satellite Data)\n",
    "select = cols[218:436]\n",
    "X_all = X[select]\n",
    "\n",
    "# Just the last 2 years Crop Production\n",
    "select1 = cols[218:220]\n",
    "X_crp = X[select1]\n",
    "\n",
    "# Just the Satellite Data\n",
    "select2 = cols[220:436]\n",
    "X_sat = X[select2]"
   ]
  },
  {
   "cell_type": "markdown",
   "metadata": {},
   "source": [
    "# ---------------------------------------------------------------------\n",
    "# With all the features together\n",
    "# ---------------------------------------------------------------------"
   ]
  },
  {
   "cell_type": "markdown",
   "metadata": {},
   "source": [
    "### Avg RMSE for Linear Regression"
   ]
  },
  {
   "cell_type": "code",
   "execution_count": 11,
   "metadata": {},
   "outputs": [
    {
     "name": "stdout",
     "output_type": "stream",
     "text": [
      "[ 391955.98677226   30716.17271021   32015.23840967   51595.08478481\n",
      "   55681.15855367]\n",
      "\n",
      "Avg RMSE is 112392.728246\n"
     ]
    },
    {
     "name": "stderr",
     "output_type": "stream",
     "text": [
      "/Users/macbook/Library/Python/2.7/lib/python/site-packages/scipy/linalg/basic.py:1018: RuntimeWarning: internal gelsd driver lwork query error, required iwork dimension not returned. This is likely the result of LAPACK bug 0038, fixed in LAPACK 3.2.2 (released July 21, 2010). Falling back to 'gelss' driver.\n",
      "  warnings.warn(mesg, RuntimeWarning)\n"
     ]
    }
   ],
   "source": [
    "clf = LinearRegression()\n",
    "scores = cross_val_score(clf, X_all, y, cv=5, scoring='neg_mean_squared_error')\n",
    "for i in range(0,5):\n",
    "    scores[i] = sqrt(-1*scores[i])\n",
    "    \n",
    "print(scores)\n",
    "avg_rmse = scores.mean()\n",
    "print(\"\\nAvg RMSE is \"+str(scores.mean()))"
   ]
  },
  {
   "cell_type": "markdown",
   "metadata": {},
   "source": [
    "## Support Vector Regression (SVR)"
   ]
  },
  {
   "cell_type": "markdown",
   "metadata": {},
   "source": [
    "### RBF Kernel"
   ]
  },
  {
   "cell_type": "code",
   "execution_count": 12,
   "metadata": {},
   "outputs": [
    {
     "name": "stdout",
     "output_type": "stream",
     "text": [
      "[ 1001.56936493   934.53462579   927.19294425   510.36585607   792.53322231]\n",
      "('\\n\\nAvg RMSE is ', 833.23920267072026)\n"
     ]
    }
   ],
   "source": [
    "# 5 Fold CV, to calculate avg RMSE\n",
    "clf = SVR(C=8000.0, epsilon=0.1, kernel='rbf', gamma=0.001)\n",
    "scores = cross_val_score(clf, X_all, y.values.ravel(), cv=5, scoring='neg_mean_squared_error')\n",
    "for i in range(0,5):\n",
    "    scores[i] = sqrt(-1*scores[i])\n",
    "\n",
    "print(scores)\n",
    "avg_rmse = scores.mean()\n",
    "print(\"\\n\\nAvg RMSE is \",scores.mean())"
   ]
  },
  {
   "cell_type": "code",
   "execution_count": 13,
   "metadata": {},
   "outputs": [
    {
     "name": "stdout",
     "output_type": "stream",
     "text": [
      "[  899.97544879   877.1688262   1007.47422578   578.86809173   767.31332759]\n",
      "('\\n\\nAvg RMSE is ', 826.15998401704314)\n"
     ]
    }
   ],
   "source": [
    "# 5 Fold CV, to calculate avg RMSE\n",
    "clf = SVR(C=2000.0, epsilon=0.1, kernel='rbf', gamma=0.008)\n",
    "scores = cross_val_score(clf, X_all, y.values.ravel(), cv=5, scoring='neg_mean_squared_error')\n",
    "for i in range(0,5):\n",
    "    scores[i] = sqrt(-1*scores[i])\n",
    "\n",
    "print(scores)\n",
    "avg_rmse = scores.mean()\n",
    "print(\"\\n\\nAvg RMSE is \",scores.mean())"
   ]
  },
  {
   "cell_type": "code",
   "execution_count": 14,
   "metadata": {},
   "outputs": [
    {
     "name": "stdout",
     "output_type": "stream",
     "text": [
      "[  786.16034517   885.43348522  1213.19019481   516.87862934   792.5500076 ]\n",
      "('\\n\\nAvg RMSE is ', 838.84253242753005)\n"
     ]
    }
   ],
   "source": [
    "# 5 Fold CV, to calculate avg RMSE\n",
    "clf = SVR(C=1000000.0, epsilon=0.1, kernel='rbf', gamma=0.000001)\n",
    "scores = cross_val_score(clf, X_all, y.values.ravel(), cv=5, scoring='neg_mean_squared_error')\n",
    "for i in range(0,5):\n",
    "    scores[i] = sqrt(-1*scores[i])\n",
    "\n",
    "print(scores)\n",
    "avg_rmse = scores.mean()\n",
    "print(\"\\n\\nAvg RMSE is \",scores.mean())"
   ]
  },
  {
   "cell_type": "markdown",
   "metadata": {},
   "source": [
    "# ---------------------------------------------------------------------\n",
    "# With only Last 2 Years Crop Production\n",
    "# ---------------------------------------------------------------------"
   ]
  },
  {
   "cell_type": "markdown",
   "metadata": {},
   "source": [
    "### Linear Regression"
   ]
  },
  {
   "cell_type": "code",
   "execution_count": 15,
   "metadata": {},
   "outputs": [
    {
     "name": "stdout",
     "output_type": "stream",
     "text": [
      "[ 1065.63585702   857.23595343   822.13094399   554.39487643   704.46495431]\n",
      "('\\n\\nAvg RMSE is ', 800.77251703573052)\n"
     ]
    }
   ],
   "source": [
    "clf = LinearRegression()\n",
    "scores = cross_val_score(clf, X_crp, y, cv=5, scoring='neg_mean_squared_error')\n",
    "for i in range(0,5):\n",
    "    scores[i] = sqrt(-1*scores[i])\n",
    "    \n",
    "print(scores)\n",
    "avg_rmse = scores.mean()\n",
    "print(\"\\n\\nAvg RMSE is \",scores.mean())"
   ]
  },
  {
   "cell_type": "markdown",
   "metadata": {},
   "source": [
    "## SVR"
   ]
  },
  {
   "cell_type": "code",
   "execution_count": 16,
   "metadata": {},
   "outputs": [
    {
     "name": "stdout",
     "output_type": "stream",
     "text": [
      "[ 1122.52109861   782.51768706   818.44643068   558.35682966   597.68271737]\n",
      "('\\n\\nAvg RMSE is ', 775.9049526763938)\n"
     ]
    }
   ],
   "source": [
    "# 5 Fold CV, to calculate avg RMSE\n",
    "clf = SVR(C=500000.0, epsilon=0.1, kernel='rbf', gamma=0.0008)\n",
    "scores = cross_val_score(clf, X_crp, y.values.ravel(), cv=5, scoring='neg_mean_squared_error')\n",
    "for i in range(0,5):\n",
    "    scores[i] = sqrt(-1*scores[i])\n",
    "\n",
    "print(scores)\n",
    "avg_rmse = scores.mean()\n",
    "print(\"\\n\\nAvg RMSE is \",scores.mean())"
   ]
  },
  {
   "cell_type": "code",
   "execution_count": 17,
   "metadata": {},
   "outputs": [
    {
     "name": "stdout",
     "output_type": "stream",
     "text": [
      "[ 1124.94452355   789.3795181    635.23208725   568.28402579   603.87158373]\n",
      "('\\n\\nAvg RMSE is ', 744.34234768539648)\n"
     ]
    }
   ],
   "source": [
    "# 5 Fold CV, to calculate avg RMSE\n",
    "clf = SVR(C=8000.0, epsilon=0.1, kernel='rbf', gamma=0.01)\n",
    "scores = cross_val_score(clf, X_crp, y.values.ravel(), cv=5, scoring='neg_mean_squared_error')\n",
    "for i in range(0,5):\n",
    "    scores[i] = sqrt(-1*scores[i])\n",
    "\n",
    "print(scores)\n",
    "avg_rmse = scores.mean()\n",
    "print(\"\\n\\nAvg RMSE is \",scores.mean())"
   ]
  },
  {
   "cell_type": "code",
   "execution_count": null,
   "metadata": {},
   "outputs": [],
   "source": []
  },
  {
   "cell_type": "code",
   "execution_count": null,
   "metadata": {},
   "outputs": [],
   "source": []
  },
  {
   "cell_type": "markdown",
   "metadata": {},
   "source": [
    "# ---------------------------------------------------------------------\n",
    "# With only Satellite Data\n",
    "# ---------------------------------------------------------------------"
   ]
  },
  {
   "cell_type": "markdown",
   "metadata": {},
   "source": [
    "### Avg RMSE for Linear Regression"
   ]
  },
  {
   "cell_type": "code",
   "execution_count": 18,
   "metadata": {},
   "outputs": [
    {
     "name": "stdout",
     "output_type": "stream",
     "text": [
      "[ 1096649.30846409    57754.97135963    39092.52014173   111666.57491367\n",
      "    69970.82187998]\n",
      "('\\n\\nAvg RMSE is ', 275026.83935182099)\n"
     ]
    }
   ],
   "source": [
    "clf = LinearRegression()\n",
    "scores = cross_val_score(clf, X_sat, y, cv=5, scoring='neg_mean_squared_error')\n",
    "for i in range(0,5):\n",
    "    scores[i] = sqrt(-1*scores[i])\n",
    "    \n",
    "print(scores)\n",
    "avg_rmse = scores.mean()\n",
    "print(\"\\n\\nAvg RMSE is \",scores.mean())"
   ]
  },
  {
   "cell_type": "markdown",
   "metadata": {},
   "source": [
    "# Support Vector Regression (SVR)"
   ]
  },
  {
   "cell_type": "markdown",
   "metadata": {},
   "source": [
    "### RBF Kernel"
   ]
  },
  {
   "cell_type": "code",
   "execution_count": 19,
   "metadata": {},
   "outputs": [
    {
     "name": "stdout",
     "output_type": "stream",
     "text": [
      "[  869.97972186   909.00034756  1356.3789098    669.4493212    748.80356142]\n",
      "('\\n\\nAvg RMSE is ', 910.72237236657566)\n"
     ]
    }
   ],
   "source": [
    "# 5 Fold CV, to calculate avg RMSE\n",
    "clf = SVR(C=1000.0, epsilon=0.1, kernel='rbf', gamma=0.01)\n",
    "scores = cross_val_score(clf, X_sat, y.values.ravel(), cv=5, scoring='neg_mean_squared_error')\n",
    "for i in range(0,5):\n",
    "    scores[i] = sqrt(-1*scores[i])\n",
    "\n",
    "print(scores)\n",
    "avg_rmse = scores.mean()\n",
    "print(\"\\n\\nAvg RMSE is \",scores.mean())"
   ]
  },
  {
   "cell_type": "markdown",
   "metadata": {},
   "source": [
    "# -----------------------------------------------------\n",
    "# Dimension Reduction"
   ]
  },
  {
   "cell_type": "code",
   "execution_count": 20,
   "metadata": {},
   "outputs": [],
   "source": [
    "from sklearn.decomposition import PCA"
   ]
  },
  {
   "cell_type": "code",
   "execution_count": 33,
   "metadata": {},
   "outputs": [],
   "source": [
    "def fPCA(x): \n",
    "    pca = PCA(n_components=x)\n",
    "    pcax = pca.fit_transform(X_all)\n",
    "\n",
    "    # 5 Fold CV, to calculate avg RMSE\n",
    "    clf = SVR(C=2000.0, epsilon=0.1, kernel='rbf', gamma=0.008)\n",
    "    scores = cross_val_score(clf, pcax, y.values.ravel(), cv=5, scoring='neg_mean_squared_error')\n",
    "    for i in range(0,5):\n",
    "        scores[i] = sqrt(-1*scores[i])\n",
    "\n",
    "    print(scores)\n",
    "    avg_rmse = scores.mean()\n",
    "    print(\"\\n\\nAvg RMSE is \",scores.mean())"
   ]
  },
  {
   "cell_type": "code",
   "execution_count": 34,
   "metadata": {},
   "outputs": [
    {
     "name": "stdout",
     "output_type": "stream",
     "text": [
      "[ 892.97364473  885.57712686  988.60029939  574.95550189  771.30844956]\n",
      "('\\n\\nAvg RMSE is ', 822.68300448471223)\n"
     ]
    }
   ],
   "source": [
    "fPCA(42)"
   ]
  },
  {
   "cell_type": "markdown",
   "metadata": {},
   "source": [
    "# ------------------------------------------------------\n",
    "# XGBoost"
   ]
  },
  {
   "cell_type": "code",
   "execution_count": 35,
   "metadata": {},
   "outputs": [],
   "source": [
    "import xgboost as xgb"
   ]
  },
  {
   "cell_type": "code",
   "execution_count": 36,
   "metadata": {},
   "outputs": [],
   "source": [
    "\n",
    "# prepare dict of params for xgboost to run with\n",
    "xgb_params = {\n",
    "    'n_trees': 500, \n",
    "    'eta': 0.005,\n",
    "    'max_depth': 4,\n",
    "    'subsample': 0.95,\n",
    "    'objective': 'reg:linear',\n",
    "    'eval_metric': 'rmse',\n",
    "    'base_score': np.mean(y), # base prediction = mean(target)\n",
    "    'silent': 1\n",
    "}"
   ]
  },
  {
   "cell_type": "code",
   "execution_count": 63,
   "metadata": {},
   "outputs": [
    {
     "name": "stdout",
     "output_type": "stream",
     "text": [
      "[0]\ttrain-rmse:966.262\ttest-rmse:966.419\n",
      "[50]\ttrain-rmse:816.615\ttest-rmse:855.193\n",
      "[100]\ttrain-rmse:703.539\ttest-rmse:777.552\n",
      "[150]\ttrain-rmse:616.777\ttest-rmse:725.507\n",
      "[200]\ttrain-rmse:547.886\ttest-rmse:689.038\n",
      "[250]\ttrain-rmse:492.388\ttest-rmse:661.626\n",
      "[300]\ttrain-rmse:446.941\ttest-rmse:641.844\n",
      "[350]\ttrain-rmse:409.583\ttest-rmse:627.207\n",
      "[400]\ttrain-rmse:376.658\ttest-rmse:615.539\n",
      "[450]\ttrain-rmse:347.248\ttest-rmse:605.922\n",
      "[500]\ttrain-rmse:320.711\ttest-rmse:598.438\n",
      "[550]\ttrain-rmse:297.553\ttest-rmse:591.797\n",
      "[600]\ttrain-rmse:276.762\ttest-rmse:586.281\n",
      "[650]\ttrain-rmse:259.035\ttest-rmse:582.493\n",
      "[700]\ttrain-rmse:243.065\ttest-rmse:579.534\n",
      "[750]\ttrain-rmse:229.079\ttest-rmse:576.978\n",
      "[800]\ttrain-rmse:217.064\ttest-rmse:574.821\n",
      "[850]\ttrain-rmse:205.612\ttest-rmse:572.578\n",
      "[899]\ttrain-rmse:194.975\ttest-rmse:570.513\n",
      "900\n"
     ]
    }
   ],
   "source": [
    "# form DMatrices for Xgboost training\n",
    "dtrain = xgb.DMatrix(X_all, y)\n",
    "\n",
    "# xgboost, cross-validation\n",
    "cv_result = xgb.cv(xgb_params, \n",
    "                   dtrain, \n",
    "                   num_boost_round=900, # increase to have better results (~700)\n",
    "                   early_stopping_rounds=50,\n",
    "                   verbose_eval=50, \n",
    "                   show_stdv=False\n",
    "                  )\n",
    "\n",
    "num_boost_rounds = len(cv_result)\n",
    "print(num_boost_rounds)"
   ]
  },
  {
   "cell_type": "code",
   "execution_count": 64,
   "metadata": {},
   "outputs": [],
   "source": [
    "# train model\n",
    "model = xgb.train(dict(xgb_params, silent=0), dtrain, num_boost_round=num_boost_rounds)"
   ]
  },
  {
   "cell_type": "code",
   "execution_count": 65,
   "metadata": {},
   "outputs": [
    {
     "name": "stdout",
     "output_type": "stream",
     "text": [
      "0.938713324242\n"
     ]
    }
   ],
   "source": [
    "from sklearn.metrics import r2_score\n",
    "print(r2_score(dtrain.get_label(), model.predict(dtrain)))"
   ]
  },
  {
   "cell_type": "code",
   "execution_count": 66,
   "metadata": {},
   "outputs": [
    {
     "name": "stdout",
     "output_type": "stream",
     "text": [
      "244.756891596\n"
     ]
    }
   ],
   "source": [
    "X_train, X_test, y_train, y_test = train_test_split(X_all, y, test_size=0.2, random_state=1)\n",
    "dtest = xgb.DMatrix(X_test)\n",
    "\n",
    "y_predict = model.predict(dtest)\n",
    "rmse = sqrt(mean_squared_error(y_predict, y_test))\n",
    "print(rmse)"
   ]
  },
  {
   "cell_type": "markdown",
   "metadata": {},
   "source": [
    "# Now lets try not to Overfit.\n",
    "### Learning XGBoost Model on split data"
   ]
  },
  {
   "cell_type": "code",
   "execution_count": 115,
   "metadata": {},
   "outputs": [],
   "source": [
    "X_train, X_test, y_train, y_test = train_test_split(X_all, y, test_size=0.2, random_state=1936)"
   ]
  },
  {
   "cell_type": "code",
   "execution_count": 116,
   "metadata": {},
   "outputs": [
    {
     "name": "stdout",
     "output_type": "stream",
     "text": [
      "[0]\ttrain-rmse:988.272\ttest-rmse:986.911\n",
      "[50]\ttrain-rmse:831.605\ttest-rmse:879.427\n",
      "[100]\ttrain-rmse:710.039\ttest-rmse:806.874\n",
      "[150]\ttrain-rmse:615.341\ttest-rmse:761.009\n",
      "[200]\ttrain-rmse:538.258\ttest-rmse:730.731\n",
      "[250]\ttrain-rmse:475.6\ttest-rmse:709.475\n",
      "[300]\ttrain-rmse:422.922\ttest-rmse:694.765\n",
      "[350]\ttrain-rmse:379.103\ttest-rmse:684.504\n",
      "[400]\ttrain-rmse:341.745\ttest-rmse:676.853\n",
      "[450]\ttrain-rmse:309.816\ttest-rmse:672.719\n",
      "[500]\ttrain-rmse:282.825\ttest-rmse:670.187\n",
      "[550]\ttrain-rmse:259.145\ttest-rmse:669.404\n",
      "[600]\ttrain-rmse:238.886\ttest-rmse:668.687\n",
      "[650]\ttrain-rmse:220.75\ttest-rmse:668.264\n",
      "[699]\ttrain-rmse:205.179\ttest-rmse:667.093\n",
      "700\n"
     ]
    }
   ],
   "source": [
    "dtrain = xgb.DMatrix(X_train, y_train)\n",
    "\n",
    "# xgboost, cross-validation\n",
    "cv_result = xgb.cv(xgb_params, \n",
    "                   dtrain, \n",
    "                   num_boost_round=700, # increase to have better results (~700)\n",
    "                   early_stopping_rounds=50,\n",
    "                   verbose_eval=50, \n",
    "                   show_stdv=False\n",
    "                  )\n",
    "\n",
    "num_boost_rounds = len(cv_result)\n",
    "print(num_boost_rounds)"
   ]
  },
  {
   "cell_type": "code",
   "execution_count": 117,
   "metadata": {},
   "outputs": [
    {
     "name": "stdout",
     "output_type": "stream",
     "text": [
      "0.930678943995\n"
     ]
    }
   ],
   "source": [
    "# train model\n",
    "model = xgb.train(dict(xgb_params, silent=0), dtrain, num_boost_round=num_boost_rounds)\n",
    "print(r2_score(dtrain.get_label(), model.predict(dtrain)))"
   ]
  },
  {
   "cell_type": "code",
   "execution_count": 118,
   "metadata": {},
   "outputs": [
    {
     "name": "stdout",
     "output_type": "stream",
     "text": [
      "494.503751917\n"
     ]
    }
   ],
   "source": [
    "dtest = xgb.DMatrix(X_test)\n",
    "\n",
    "y_predict = model.predict(dtest)\n",
    "rmse = sqrt(mean_squared_error(y_predict, y_test))\n",
    "print(rmse)"
   ]
  },
  {
   "cell_type": "code",
   "execution_count": 120,
   "metadata": {},
   "outputs": [
    {
     "data": {
      "text/plain": [
       "538.5155833333333"
      ]
     },
     "execution_count": 120,
     "metadata": {},
     "output_type": "execute_result"
    }
   ],
   "source": [
    "avg_rmse = (481.67 + 542.952 + 577.985 + 544.2265 + 589.76 + 494.5)/6\n",
    "avg_rmse"
   ]
  },
  {
   "cell_type": "code",
   "execution_count": 129,
   "metadata": {
    "scrolled": true
   },
   "outputs": [
    {
     "name": "stdout",
     "output_type": "stream",
     "text": [
      "    y_predicted  y_test\n",
      "0   1814.300049  2497.6\n",
      "1   2083.600098  1658.0\n",
      "2   3483.899902  3444.5\n",
      "3   3635.000000  3754.4\n",
      "4   1421.699951  1254.0\n",
      "5   2160.800049  1833.0\n",
      "6   1984.199951  1196.7\n",
      "7   2263.899902  2007.0\n",
      "8   2838.199951  3483.3\n",
      "9   2086.600098  1212.6\n",
      "10  2394.500000  2288.0\n",
      "11  3489.500000  3950.3\n",
      "12  2514.600098  2747.0\n",
      "13  3309.300049  3718.1\n",
      "14  1435.300049  1567.1\n",
      "15  2961.300049  2257.0\n",
      "16  3062.600098  3318.5\n",
      "17  2879.600098  2173.3\n",
      "18  1486.900024  2000.0\n",
      "19  2912.100098  2614.0\n",
      "20  2089.199951  2266.4\n",
      "21  2351.000000   726.7\n",
      "22  2557.000000  2653.9\n",
      "23  1971.099976  1461.6\n",
      "24  3139.399902  3718.9\n",
      "25  2065.899902  2008.0\n",
      "26  2491.699951  2633.0\n",
      "27  3655.000000  3357.2\n",
      "28  4101.000000  4576.9\n",
      "29  1458.500000  1807.5\n",
      "..          ...     ...\n",
      "36  1434.599976  1367.9\n",
      "37  1680.699951  2087.8\n",
      "38  1557.800049  1284.2\n",
      "39  1534.199951  1358.9\n",
      "40  2422.800049  2951.6\n",
      "41  3028.600098  2663.7\n",
      "42  1486.900024  1666.7\n",
      "43  2118.500000  1884.8\n",
      "44  2808.000000  2607.0\n",
      "45  2256.399902  2359.0\n",
      "46  2270.399902  1758.1\n",
      "47  2214.699951  1514.6\n",
      "48  1486.900024  1571.4\n",
      "49  1574.500000  1750.0\n",
      "50  2254.399902  2604.0\n",
      "51  2795.300049  2493.8\n",
      "52  2985.100098  2983.6\n",
      "53  1422.800049  1420.7\n",
      "54  2355.000000  2549.0\n",
      "55  2884.100098  2558.2\n",
      "56  1800.000000  1574.8\n",
      "57  2784.699951  2667.8\n",
      "58  3627.000000  3890.9\n",
      "59  1613.300049  2026.5\n",
      "60  2167.199951  1183.3\n",
      "61  2963.399902  2586.0\n",
      "62  1471.300049  1383.4\n",
      "63  1988.199951  2539.2\n",
      "64  2203.899902  2327.3\n",
      "65  2068.500000  3175.6\n",
      "\n",
      "[66 rows x 2 columns]\n"
     ]
    }
   ],
   "source": [
    "yt = y_test.as_matrix()\n",
    "p = pd.DataFrame()\n",
    "p[\"y_predicted\"] = y_predict\n",
    "p[\"y_test\"] = yt\n",
    "\n",
    "p[\"y_predicted\"] = p[\"y_predicted\"].round(decimals=1)\n",
    "p[\"y_test\"] = p[\"y_test\"].round(decimals=1)\n",
    "print p"
   ]
  },
  {
   "cell_type": "markdown",
   "metadata": {},
   "source": [
    "# XGB with just 2 Features"
   ]
  },
  {
   "cell_type": "code",
   "execution_count": 130,
   "metadata": {},
   "outputs": [],
   "source": [
    "X_train, X_test, y_train, y_test = train_test_split(X_crp, y, test_size=0.2, random_state=1)"
   ]
  },
  {
   "cell_type": "code",
   "execution_count": 131,
   "metadata": {},
   "outputs": [
    {
     "name": "stdout",
     "output_type": "stream",
     "text": [
      "[0]\ttrain-rmse:944.227\ttest-rmse:944.313\n",
      "[50]\ttrain-rmse:825.257\ttest-rmse:853.062\n",
      "[100]\ttrain-rmse:735.909\ttest-rmse:792.289\n",
      "[150]\ttrain-rmse:668.38\ttest-rmse:751.925\n",
      "[200]\ttrain-rmse:614.852\ttest-rmse:723.729\n",
      "[250]\ttrain-rmse:572.396\ttest-rmse:705.561\n",
      "[300]\ttrain-rmse:539.318\ttest-rmse:692.405\n",
      "[350]\ttrain-rmse:512.972\ttest-rmse:684.342\n",
      "[400]\ttrain-rmse:491.074\ttest-rmse:678.952\n",
      "[450]\ttrain-rmse:472.002\ttest-rmse:675.561\n",
      "[500]\ttrain-rmse:456.333\ttest-rmse:673.721\n",
      "[550]\ttrain-rmse:441.643\ttest-rmse:672.909\n",
      "[600]\ttrain-rmse:428.63\ttest-rmse:672.948\n",
      "580\n"
     ]
    }
   ],
   "source": [
    "dtrain = xgb.DMatrix(X_train, y_train)\n",
    "\n",
    "# xgboost, cross-validation\n",
    "cv_result = xgb.cv(xgb_params, \n",
    "                   dtrain, \n",
    "                   num_boost_round=700, # increase to have better results (~700)\n",
    "                   early_stopping_rounds=50,\n",
    "                   verbose_eval=50, \n",
    "                   show_stdv=False\n",
    "                  )\n",
    "\n",
    "num_boost_rounds = len(cv_result)\n",
    "print(num_boost_rounds)"
   ]
  },
  {
   "cell_type": "code",
   "execution_count": 132,
   "metadata": {},
   "outputs": [
    {
     "name": "stdout",
     "output_type": "stream",
     "text": [
      "0.744962712206\n"
     ]
    }
   ],
   "source": [
    "# train model\n",
    "model = xgb.train(dict(xgb_params, silent=0), dtrain, num_boost_round=num_boost_rounds)\n",
    "print(r2_score(dtrain.get_label(), model.predict(dtrain)))"
   ]
  },
  {
   "cell_type": "code",
   "execution_count": 133,
   "metadata": {},
   "outputs": [
    {
     "name": "stdout",
     "output_type": "stream",
     "text": [
      "739.892366597\n"
     ]
    }
   ],
   "source": [
    "dtest = xgb.DMatrix(X_test)\n",
    "\n",
    "y_predict2 = model.predict(dtest)\n",
    "rmse = sqrt(mean_squared_error(y_predict2, y_test))\n",
    "print(rmse)"
   ]
  },
  {
   "cell_type": "code",
   "execution_count": null,
   "metadata": {},
   "outputs": [],
   "source": []
  },
  {
   "cell_type": "markdown",
   "metadata": {},
   "source": [
    "# Lets check RMSE for SVR on just 2 features"
   ]
  },
  {
   "cell_type": "code",
   "execution_count": 55,
   "metadata": {},
   "outputs": [
    {
     "name": "stdout",
     "output_type": "stream",
     "text": [
      "777.939254138\n"
     ]
    }
   ],
   "source": [
    "X_train, X_test, y_train, y_test = train_test_split(X_crp, y, test_size=0.2, random_state=1)\n",
    "\n",
    "clf = SVR(C=8000.0, epsilon=0.1, kernel='rbf', gamma=0.01)\n",
    "clf.fit(X_train, y_train)\n",
    "y_predict = clf.predict(X_test)\n",
    "rmse = sqrt(mean_squared_error(y_predict, y_test))\n",
    "print(rmse)"
   ]
  },
  {
   "cell_type": "code",
   "execution_count": 56,
   "metadata": {},
   "outputs": [
    {
     "data": {
      "text/html": [
       "<div>\n",
       "<table border=\"1\" class=\"dataframe\">\n",
       "  <thead>\n",
       "    <tr style=\"text-align: right;\">\n",
       "      <th></th>\n",
       "      <th>y_predicted</th>\n",
       "      <th>y_test</th>\n",
       "    </tr>\n",
       "  </thead>\n",
       "  <tbody>\n",
       "    <tr>\n",
       "      <th>count</th>\n",
       "      <td>66.000000</td>\n",
       "      <td>66.000000</td>\n",
       "    </tr>\n",
       "    <tr>\n",
       "      <th>mean</th>\n",
       "      <td>2587.830303</td>\n",
       "      <td>2651.320556</td>\n",
       "    </tr>\n",
       "    <tr>\n",
       "      <th>std</th>\n",
       "      <td>736.545480</td>\n",
       "      <td>1087.275670</td>\n",
       "    </tr>\n",
       "    <tr>\n",
       "      <th>min</th>\n",
       "      <td>2020.000000</td>\n",
       "      <td>1077.262693</td>\n",
       "    </tr>\n",
       "    <tr>\n",
       "      <th>25%</th>\n",
       "      <td>2079.250000</td>\n",
       "      <td>1750.887515</td>\n",
       "    </tr>\n",
       "    <tr>\n",
       "      <th>50%</th>\n",
       "      <td>2346.800000</td>\n",
       "      <td>2318.003603</td>\n",
       "    </tr>\n",
       "    <tr>\n",
       "      <th>75%</th>\n",
       "      <td>2740.325000</td>\n",
       "      <td>3576.059357</td>\n",
       "    </tr>\n",
       "    <tr>\n",
       "      <th>max</th>\n",
       "      <td>4624.700000</td>\n",
       "      <td>5150.000000</td>\n",
       "    </tr>\n",
       "  </tbody>\n",
       "</table>\n",
       "</div>"
      ],
      "text/plain": [
       "       y_predicted       y_test\n",
       "count    66.000000    66.000000\n",
       "mean   2587.830303  2651.320556\n",
       "std     736.545480  1087.275670\n",
       "min    2020.000000  1077.262693\n",
       "25%    2079.250000  1750.887515\n",
       "50%    2346.800000  2318.003603\n",
       "75%    2740.325000  3576.059357\n",
       "max    4624.700000  5150.000000"
      ]
     },
     "execution_count": 56,
     "metadata": {},
     "output_type": "execute_result"
    }
   ],
   "source": [
    "yt = y_test.as_matrix()\n",
    "p = pd.DataFrame()\n",
    "p[\"y_predicted\"] = y_predict\n",
    "p[\"y_test\"] = yt\n",
    "\n",
    "p[\"y_predicted\"] = p[\"y_predicted\"].round(decimals=1)\n",
    "p[\"y_test\"] = p[\"y_test\"].round(decimals=1)\n",
    "p.describe()"
   ]
  },
  {
   "cell_type": "code",
   "execution_count": 150,
   "metadata": {},
   "outputs": [],
   "source": [
    "# print (p)"
   ]
  },
  {
   "cell_type": "markdown",
   "metadata": {},
   "source": [
    "## SVR (Polynomial)"
   ]
  },
  {
   "cell_type": "markdown",
   "metadata": {},
   "source": [
    "### All features"
   ]
  },
  {
   "cell_type": "code",
   "execution_count": 179,
   "metadata": {},
   "outputs": [
    {
     "name": "stdout",
     "output_type": "stream",
     "text": [
      "[ 1018.56596246   871.41412691  1089.24077669   498.344196     699.09853945]\n",
      "('\\n\\nAvg RMSE is ', 835.33272030408114)\n"
     ]
    }
   ],
   "source": [
    "# 5 Fold CV, to calculate avg RMSE\n",
    "clf = SVR(kernel='poly', gamma='auto', degree=4, coef0=6)\n",
    "scores = cross_val_score(clf, X_all, y.values.ravel(), cv=5, scoring='neg_mean_squared_error')\n",
    "for i in range(0,5):\n",
    "    scores[i] = sqrt(-1*scores[i])\n",
    "    \n",
    "print(scores)\n",
    "avg_rmse = scores.mean()\n",
    "print(\"\\n\\nAvg RMSE is \",scores.mean())"
   ]
  },
  {
   "cell_type": "markdown",
   "metadata": {},
   "source": [
    "### Without Satellite Features"
   ]
  },
  {
   "cell_type": "code",
   "execution_count": 192,
   "metadata": {},
   "outputs": [
    {
     "name": "stdout",
     "output_type": "stream",
     "text": [
      "[ 1120.15860545   791.50723759   698.21818209   564.55182209   606.2592614 ]\n",
      "('\\n\\nAvg RMSE is ', 756.13902172169639)\n"
     ]
    }
   ],
   "source": [
    "# 5 Fold CV, to calculate avg RMSE\n",
    "clf = SVR(kernel='poly', gamma='auto', degree=3, coef0=6)\n",
    "scores = cross_val_score(clf, X_crp, y.values.ravel(), cv=5, scoring='neg_mean_squared_error')\n",
    "for i in range(0,5):\n",
    "    scores[i] = sqrt(-1*scores[i])\n",
    "    \n",
    "print(scores)\n",
    "avg_rmse = scores.mean()\n",
    "print(\"\\n\\nAvg RMSE is \",scores.mean())"
   ]
  },
  {
   "cell_type": "markdown",
   "metadata": {},
   "source": [
    "## Ridge, Lasso on All features"
   ]
  },
  {
   "cell_type": "markdown",
   "metadata": {},
   "source": [
    "## For X_all"
   ]
  },
  {
   "cell_type": "code",
   "execution_count": 218,
   "metadata": {},
   "outputs": [
    {
     "data": {
      "text/plain": [
       "130.0"
      ]
     },
     "execution_count": 218,
     "metadata": {},
     "output_type": "execute_result"
    }
   ],
   "source": [
    "from sklearn import linear_model\n",
    "\n",
    "reg = linear_model.RidgeCV(alphas=[1,2,3,4,5,6,7,7.1,7.2,7.3,8,9,100,120,125,130,140,150])\n",
    "reg.fit(X_all, y)\n",
    "reg.alpha_"
   ]
  },
  {
   "cell_type": "code",
   "execution_count": 225,
   "metadata": {},
   "outputs": [
    {
     "name": "stdout",
     "output_type": "stream",
     "text": [
      "792.258896478\n"
     ]
    }
   ],
   "source": [
    "X_train, X_test, y_train, y_test = train_test_split(X_all, y, test_size=0.2, random_state=50)\n",
    "\n",
    "reg = linear_model.Ridge(alpha = 130)\n",
    "reg.fit (X_train, y_train)\n",
    "\n",
    "y_pred = reg.predict(X_test)\n",
    "rmse = sqrt(mean_squared_error(y_pred, y_test))\n",
    "print(rmse)"
   ]
  },
  {
   "cell_type": "markdown",
   "metadata": {},
   "source": [
    "Avg RMSE is is **700**"
   ]
  },
  {
   "cell_type": "markdown",
   "metadata": {},
   "source": [
    "## For X_crp"
   ]
  },
  {
   "cell_type": "code",
   "execution_count": 232,
   "metadata": {},
   "outputs": [
    {
     "data": {
      "text/plain": [
       "1.0"
      ]
     },
     "execution_count": 232,
     "metadata": {},
     "output_type": "execute_result"
    }
   ],
   "source": [
    "from sklearn import linear_model\n",
    "\n",
    "reg = linear_model.RidgeCV(alphas=[0.1,0.9,1,1.5,2,3,4,5,6,7,7.1,7.2,7.3,8,9,100,120,125,130,140,150])\n",
    "reg.fit(X_crp, y)\n",
    "reg.alpha_"
   ]
  },
  {
   "cell_type": "code",
   "execution_count": 233,
   "metadata": {},
   "outputs": [
    {
     "name": "stdout",
     "output_type": "stream",
     "text": [
      "825.182370294\n"
     ]
    }
   ],
   "source": [
    "X_train, X_test, y_train, y_test = train_test_split(X_crp, y, test_size=0.2, random_state=50)\n",
    "\n",
    "reg = linear_model.Ridge(alpha = 1)\n",
    "reg.fit (X_train, y_train)\n",
    "\n",
    "y_pred = reg.predict(X_test)\n",
    "rmse = sqrt(mean_squared_error(y_pred, y_test))\n",
    "print(rmse)"
   ]
  },
  {
   "cell_type": "code",
   "execution_count": null,
   "metadata": {},
   "outputs": [],
   "source": []
  },
  {
   "cell_type": "code",
   "execution_count": null,
   "metadata": {},
   "outputs": [],
   "source": []
  },
  {
   "cell_type": "code",
   "execution_count": 258,
   "metadata": {},
   "outputs": [
    {
     "data": {
      "image/png": "[encoded data removed]",
      "text/plain": [
       "<matplotlib.figure.Figure at 0x1171a6e90>"
      ]
     },
     "metadata": {},
     "output_type": "display_data"
    }
   ],
   "source": [
    "# data to plot\n",
    "n_groups = 4\n",
    "rmse_crp = (800, 750, 750, 750)\n",
    "rmse_sat = (700, 830, 830, 540)\n",
    " \n",
    "# create plot\n",
    "# fig, ax = plt.subplots()\n",
    "index = np.arange(n_groups)\n",
    "bar_width = 0.35\n",
    "opacity = 0.8\n",
    " \n",
    "plt.figure(figsize=(15,10))\n",
    "\n",
    "rects1 = plt.bar(index, rmse_crp, bar_width,\n",
    "                 alpha=opacity,\n",
    "                 color='b',\n",
    "                 label='Without Satellite Data')\n",
    " \n",
    "rects2 = plt.bar(index + bar_width, rmse_sat, bar_width,\n",
    "                 alpha=opacity,\n",
    "                 color='g',\n",
    "                 label='With Satellite Data')\n",
    " \n",
    "plt.xlabel('ML Algorithms', fontsize=35)\n",
    "plt.ylabel('RMSE', fontsize=35)\n",
    "# plt.title('Effect of Satellite Data', fontsize=45)\n",
    "plt.xticks(index + bar_width/2, ('Linear Regression \\n (Ridge, Lasso)', 'SVR (Gaussian Kernel)', 'SVR (Polynomial)', 'XGBoost'), fontsize=17)\n",
    "plt.legend(fontsize=15)\n",
    " \n",
    "# plt.tight_layout()\n",
    "plt.show()"
   ]
  },
  {
   "cell_type": "code",
   "execution_count": null,
   "metadata": {},
   "outputs": [],
   "source": []
  },
  {
   "cell_type": "markdown",
   "metadata": {},
   "source": [
    "# XGBoost After Dimension Reduction"
   ]
  },
  {
   "cell_type": "code",
   "execution_count": 259,
   "metadata": {},
   "outputs": [],
   "source": [
    "pca = PCA(n_components=42)\n",
    "pcax = pca.fit_transform(X_all)"
   ]
  },
  {
   "cell_type": "code",
   "execution_count": 268,
   "metadata": {},
   "outputs": [],
   "source": [
    "X_train, X_test, y_train, y_test = train_test_split(pcax, y, test_size=0.2)"
   ]
  },
  {
   "cell_type": "code",
   "execution_count": 269,
   "metadata": {},
   "outputs": [
    {
     "name": "stdout",
     "output_type": "stream",
     "text": [
      "[0]\ttrain-rmse:959.607\ttest-rmse:959.822\n",
      "[50]\ttrain-rmse:817.358\ttest-rmse:887.964\n",
      "[100]\ttrain-rmse:703.665\ttest-rmse:841.001\n",
      "[150]\ttrain-rmse:611.523\ttest-rmse:807.893\n",
      "[200]\ttrain-rmse:536.362\ttest-rmse:785.793\n",
      "[250]\ttrain-rmse:476.098\ttest-rmse:768.093\n",
      "[300]\ttrain-rmse:426.87\ttest-rmse:754.869\n",
      "[350]\ttrain-rmse:386.231\ttest-rmse:746.568\n",
      "[400]\ttrain-rmse:351.48\ttest-rmse:740.39\n",
      "[450]\ttrain-rmse:321.915\ttest-rmse:735.773\n",
      "[500]\ttrain-rmse:296.237\ttest-rmse:732.285\n",
      "[550]\ttrain-rmse:273.297\ttest-rmse:730.15\n",
      "[600]\ttrain-rmse:252.986\ttest-rmse:728.542\n",
      "[650]\ttrain-rmse:234.81\ttest-rmse:727.316\n",
      "[699]\ttrain-rmse:217.946\ttest-rmse:725.914\n",
      "700\n"
     ]
    }
   ],
   "source": [
    "dtrain = xgb.DMatrix(X_train, y_train)\n",
    "\n",
    "# xgboost, cross-validation\n",
    "cv_result = xgb.cv(xgb_params, \n",
    "                   dtrain, \n",
    "                   num_boost_round=700, # increase to have better results (~700)\n",
    "                   early_stopping_rounds=50,\n",
    "                   verbose_eval=50, \n",
    "                   show_stdv=False\n",
    "                  )\n",
    "\n",
    "num_boost_rounds = len(cv_result)\n",
    "print(num_boost_rounds)"
   ]
  },
  {
   "cell_type": "code",
   "execution_count": 270,
   "metadata": {},
   "outputs": [
    {
     "name": "stdout",
     "output_type": "stream",
     "text": [
      "0.921575717407\n"
     ]
    }
   ],
   "source": [
    "# train model\n",
    "model = xgb.train(dict(xgb_params, silent=0), dtrain, num_boost_round=num_boost_rounds)\n",
    "print(r2_score(dtrain.get_label(), model.predict(dtrain)))"
   ]
  },
  {
   "cell_type": "code",
   "execution_count": 271,
   "metadata": {},
   "outputs": [
    {
     "name": "stdout",
     "output_type": "stream",
     "text": [
      "675.101747792\n"
     ]
    }
   ],
   "source": [
    "dtest = xgb.DMatrix(X_test)\n",
    "\n",
    "y_predict = model.predict(dtest)\n",
    "rmse = sqrt(mean_squared_error(y_predict, y_test))\n",
    "print(rmse)"
   ]
  },
  {
   "cell_type": "code",
   "execution_count": null,
   "metadata": {},
   "outputs": [],
   "source": []
  },
  {
   "cell_type": "code",
   "execution_count": null,
   "metadata": {},
   "outputs": [],
   "source": []
  },
  {
   "cell_type": "code",
   "execution_count": null,
   "metadata": {},
   "outputs": [],
   "source": []
  },
  {
   "cell_type": "code",
   "execution_count": null,
   "metadata": {},
   "outputs": [],
   "source": []
  },
  {
   "cell_type": "code",
   "execution_count": 44,
   "metadata": {},
   "outputs": [],
   "source": [
    "# # y_pred = model.predict(dtest)\n",
    "\n",
    "# # 5 Fold CV, to calculate avg RMSE\n",
    "# # clf = SVR(C=1000.0, epsilon=0.1, kernel='rbf', gamma=0.01)\n",
    "# scores = cross_val_score(model, X_all, y.values.ravel(), cv=5, scoring='neg_mean_squared_error')\n",
    "# for i in range(0,5):\n",
    "#     scores[i] = sqrt(-1*scores[i])\n",
    "    \n",
    "# print(scores)\n",
    "# avg_rmse = scores.mean()\n",
    "# print(\"\\n\\nAvg RMSE is \",scores.mean())"
   ]
  },
  {
   "cell_type": "code",
   "execution_count": null,
   "metadata": {},
   "outputs": [],
   "source": []
  }
 ],
 "metadata": {
  "kernelspec": {
   "display_name": "Python 2",
   "language": "python",
   "name": "python2"
  },
  "language_info": {
   "codemirror_mode": {
    "name": "ipython",
    "version": 2
   },
   "file_extension": ".py",
   "mimetype": "text/x-python",
   "name": "python",
   "nbconvert_exporter": "python",
   "pygments_lexer": "ipython2",
   "version": "2.7.13"
  }
 },
 "nbformat": 4,
 "nbformat_minor": 2
}
